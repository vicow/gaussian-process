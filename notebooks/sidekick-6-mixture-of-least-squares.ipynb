{
 "cells": [
  {
   "cell_type": "markdown",
   "metadata": {},
   "source": [
    "# Sidekick - Mixture of Least Squares\n",
    "We train a mixture of least squares, experimenting with different number of components."
   ]
  },
  {
   "cell_type": "code",
   "execution_count": 1,
   "metadata": {
    "collapsed": false
   },
   "outputs": [],
   "source": [
    "%matplotlib inline\n",
    "from __future__ import print_function\n",
    "import os\n",
    "import sys\n",
    "sys.path.insert(0, os.path.abspath('../utils/')) # Add sibling to Python path\n",
    "sys.path.insert(0, os.path.abspath('../src/')) # Add sibling to Python path\n",
    "sys.stdout.flush() # Print output on the fly in Notebook\n",
    "import matplotlib\n",
    "matplotlib.rcParams['figure.figsize'] = (18,8)\n",
    "matplotlib.rcParams['font.size'] = 16\n",
    "matplotlib.rcParams['legend.fontsize'] = 16\n",
    "from IPython.display import display\n",
    "import numpy as np\n",
    "import pickle as cp\n",
    "import matplotlib.pyplot as plt\n",
    "from math import floor\n",
    "from dataset import Sidekick\n",
    "from model import LeastSquaresMixture\n",
    "from collections import Counter\n",
    "\n",
    "DATA_DIR = \"../data/sidekick\"\n",
    "\n",
    "def subsample(t0, t1, n_samples):\n",
    "    t = t1 - t0\n",
    "    if n_samples >= t:\n",
    "        return range(t0, t1)\n",
    "    samples = range(t0, t1, int(np.ceil(t / float(n_samples))))\n",
    "    return samples"
   ]
  },
  {
   "cell_type": "markdown",
   "metadata": {},
   "source": [
    "## Load and split data"
   ]
  },
  {
   "cell_type": "code",
   "execution_count": 2,
   "metadata": {
    "collapsed": false
   },
   "outputs": [
    {
     "name": "stdout",
     "output_type": "stream",
     "text": [
      "Loading light data set (1000 data points)...\n",
      "Data loaded.\n"
     ]
    }
   ],
   "source": [
    "sk = Sidekick()\n",
    "sk.load(light=True)\n",
    "projects_train, projects_test = sk.split()"
   ]
  },
  {
   "cell_type": "markdown",
   "metadata": {},
   "source": [
    "## Data processing"
   ]
  },
  {
   "cell_type": "code",
   "execution_count": 7,
   "metadata": {
    "collapsed": false
   },
   "outputs": [
    {
     "name": "stdout",
     "output_type": "stream",
     "text": [
      "Training on 800 projects\n",
      "Testing on 200 projects\n",
      "Number of features: 250\n"
     ]
    }
   ],
   "source": [
    "N = 1000\n",
    "N_train = int(floor(0.8*N))\n",
    "seed = 2\n",
    "t0 = 1\n",
    "t1 = 500\n",
    "n_samples = 250\n",
    "T = 999\n",
    "\n",
    "samples = subsample(t0, t1, n_samples)\n",
    "t = len(samples)\n",
    "\n",
    "#N_projects = sk.choose_n_projects(n=N, seed=seed)\n",
    "#projects_train = N_projects[:N_train]\n",
    "#projects_test = N_projects[N_train:]\n",
    "\n",
    "#with open(\"../data/sidekick/light.pkl\", 'wb') as f:\n",
    "#    cp.dump(N_projects, f)\n",
    "\n",
    "X_train = np.ndarray(shape=(len(projects_train), t), buffer=np.array([p.money[samples] for p in projects_train]), dtype=float) \n",
    "y_train = np.expand_dims(np.array([p.money[T] for p in projects_train]), axis=1)\n",
    "X_test = np.ndarray(shape=(len(projects_test), t), buffer=np.array([p.money[samples] for p in projects_test]), dtype=float) \n",
    "y_test = np.expand_dims(np.array([p.money[T] for p in projects_test]), axis=1)\n",
    "\n",
    "# Required to contain the prediction in a reasonable range\n",
    "# The problem arises when evaluating the likelihood in the expression for gamma_nk\n",
    "X_max = np.max(X_train, axis=0)\n",
    "X_train = X_train / X_max[np.newaxis, :]\n",
    "\n",
    "print(\"Training on %s projects\" % len(X_train))\n",
    "print(\"Testing on %s projects\" % len(X_test))\n",
    "print(\"Number of features: %s\" % n_samples)"
   ]
  },
  {
   "cell_type": "markdown",
   "metadata": {},
   "source": [
    "## Train Mixture of Least Squares"
   ]
  },
  {
   "cell_type": "code",
   "execution_count": 8,
   "metadata": {
    "collapsed": false
   },
   "outputs": [
    {
     "name": "stdout",
     "output_type": "stream",
     "text": [
      "Random restarts (14/20): [##############      ] 70%Hitting maximum iteration (1000)\n",
      "Random restarts (20/20): [####################] 100% Elapsed time: 0:07:41\n",
      "Model trained!\n"
     ]
    }
   ],
   "source": [
    "K = 5\n",
    "beta = 0.01\n",
    "epsilon = 1e-6\n",
    "lam = 0.01\n",
    "iterations = 1000\n",
    "random_restarts = 20\n",
    "\n",
    "mls = LeastSquaresMixture(X_train, y_train, \n",
    "                          K=K, beta=beta, lam=lam, \n",
    "                          iterations=iterations, epsilon=epsilon, random_restarts=random_restarts)\n",
    "mls.train()\n",
    "print(\"Model trained!\")"
   ]
  },
  {
   "cell_type": "markdown",
   "metadata": {},
   "source": [
    "## Display model"
   ]
  },
  {
   "cell_type": "code",
   "execution_count": 9,
   "metadata": {
    "collapsed": false
   },
   "outputs": [
    {
     "name": "stdout",
     "output_type": "stream",
     "text": [
      "Model: LeastSquaresMixture (5 components)\n",
      "Likelihood: -50.1495934604906\n",
      "Beta: 52.448182377211225\n",
      "Lambda: 0.01\n",
      "Pi: [ 0.10002485  0.24596787  0.17418854  0.25829067  0.22152806]\n",
      "Weights: (norm: [20.725831366611295, 10.475542640297597, 5.7169088767106757, 9.2497470750125679, 6.8729804510566126])\n",
      "\n"
     ]
    }
   ],
   "source": [
    "print(mls)"
   ]
  },
  {
   "cell_type": "markdown",
   "metadata": {},
   "source": [
    "## Evaluation"
   ]
  },
  {
   "cell_type": "code",
   "execution_count": 10,
   "metadata": {
    "collapsed": false
   },
   "outputs": [
    {
     "name": "stdout",
     "output_type": "stream",
     "text": [
      "Evaluating model LeastSquaresMixture (5 components)...\n",
      "Data point (200/200): [####################] 100% Elapsed time: 0:00:05\n",
      "Accuracy: 0.8\n",
      "RMSE    : 12.8334579643\n",
      "Chosen  : Counter({3: 103, 4: 37, 1: 32, 0: 21, 2: 7})\n"
     ]
    },
    {
     "data": {
      "text/plain": [
       "(12.833457964256112, 0.8, Counter({0: 21, 1: 32, 2: 7, 3: 103, 4: 37}))"
      ]
     },
     "execution_count": 10,
     "metadata": {},
     "output_type": "execute_result"
    }
   ],
   "source": [
    "X_test = X_test / X_max[np.newaxis, :]  # Apply same preprocessing as training\n",
    "mls.evaluate(X_test, y_test, verbose=True)"
   ]
  },
  {
   "cell_type": "code",
   "execution_count": null,
   "metadata": {
    "collapsed": true
   },
   "outputs": [],
   "source": []
  }
 ],
 "metadata": {
  "kernelspec": {
   "display_name": "Python 3",
   "language": "python",
   "name": "python3"
  },
  "language_info": {
   "codemirror_mode": {
    "name": "ipython",
    "version": 3
   },
   "file_extension": ".py",
   "mimetype": "text/x-python",
   "name": "python",
   "nbconvert_exporter": "python",
   "pygments_lexer": "ipython3",
   "version": "3.5.0"
  }
 },
 "nbformat": 4,
 "nbformat_minor": 0
}
