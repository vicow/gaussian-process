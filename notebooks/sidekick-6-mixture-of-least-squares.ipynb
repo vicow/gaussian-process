{
 "cells": [
  {
   "cell_type": "markdown",
   "metadata": {},
   "source": [
    "# Sidekick - Mixture of Least Squares\n",
    "We train a mixture of least squares, experimenting with different number of components."
   ]
  },
  {
   "cell_type": "code",
   "execution_count": 1,
   "metadata": {
    "collapsed": false
   },
   "outputs": [],
   "source": [
    "%matplotlib inline\n",
    "from __future__ import print_function\n",
    "import os\n",
    "import sys\n",
    "sys.path.insert(0, os.path.abspath('../utils/')) # Add sibling to Python path\n",
    "sys.path.insert(0, os.path.abspath('../src/')) # Add sibling to Python path\n",
    "sys.stdout.flush() # Print output on the fly in Notebook\n",
    "import matplotlib\n",
    "matplotlib.rcParams['figure.figsize'] = (18,8)\n",
    "matplotlib.rcParams['font.size'] = 16\n",
    "matplotlib.rcParams['legend.fontsize'] = 16\n",
    "from IPython.display import display\n",
    "import numpy as np\n",
    "import pickle as cp\n",
    "import matplotlib.pyplot as plt\n",
    "from math import floor\n",
    "from dataset import Sidekick\n",
    "from model import LeastSquaresMixture\n",
    "\n",
    "DATA_DIR = \"../data/sidekick\"\n",
    "\n",
    "def subsample(t0, t1, n_samples):\n",
    "    t = t1 - t0\n",
    "    if n_samples >= t:\n",
    "        return range(t0, t1)\n",
    "    samples = range(t0, t1, int(np.ceil(t / float(n_samples))))\n",
    "    return samples"
   ]
  },
  {
   "cell_type": "markdown",
   "metadata": {},
   "source": [
    "## Load and split data"
   ]
  },
  {
   "cell_type": "code",
   "execution_count": 2,
   "metadata": {
    "collapsed": false
   },
   "outputs": [
    {
     "name": "stdout",
     "output_type": "stream",
     "text": [
      "Loading light data set (1000 data points)...\n",
      "Data loaded.\n"
     ]
    }
   ],
   "source": [
    "sk = Sidekick()\n",
    "sk.load(light=True)\n",
    "projects_train, projects_test = sk.split()"
   ]
  },
  {
   "cell_type": "markdown",
   "metadata": {},
   "source": [
    "## Data processing"
   ]
  },
  {
   "cell_type": "code",
   "execution_count": 3,
   "metadata": {
    "collapsed": false
   },
   "outputs": [
    {
     "name": "stdout",
     "output_type": "stream",
     "text": [
      "Training on 800 projects\n",
      "Testing on 200 projects\n",
      "Number of features: 50\n"
     ]
    }
   ],
   "source": [
    "N = 1000\n",
    "N_train = int(floor(0.8*N))\n",
    "seed = 2\n",
    "t0 = 1\n",
    "t1 = 800\n",
    "n_samples = 50\n",
    "T = 999\n",
    "\n",
    "samples = subsample(t0, t1, n_samples)\n",
    "t = len(samples)\n",
    "\n",
    "#N_projects = sk.choose_n_projects(n=N, seed=seed)\n",
    "#projects_train = N_projects[:N_train]\n",
    "#projects_test = N_projects[N_train:]\n",
    "\n",
    "#with open(\"../data/sidekick/light.pkl\", 'wb') as f:\n",
    "#    cp.dump(N_projects, f)\n",
    "\n",
    "X_train = np.ndarray(shape=(len(projects_train), t), buffer=np.array([p.money[samples] for p in projects_train]), dtype=float) \n",
    "y_train = np.expand_dims(np.array([p.money[T] for p in projects_train]), axis=1)\n",
    "X_test = np.ndarray(shape=(len(projects_test), t), buffer=np.array([p.money[samples] for p in projects_test]), dtype=float) \n",
    "y_test = np.expand_dims(np.array([p.money[T] for p in projects_test]), axis=1)\n",
    "\n",
    "# Required to contain the prediction in a reasonable range\n",
    "# The problem arises when evaluating the likelihood in the expression for gamma_nk\n",
    "X_max = np.max(X_train, axis=0)\n",
    "X_train = X_train / X_max[np.newaxis, :]\n",
    "\n",
    "print(\"Training on %s projects\" % len(X_train))\n",
    "print(\"Testing on %s projects\" % len(X_test))\n",
    "print(\"Number of features: %s\" % n_samples)"
   ]
  },
  {
   "cell_type": "markdown",
   "metadata": {},
   "source": [
    "## Train Mixture of Least Squares"
   ]
  },
  {
   "cell_type": "code",
   "execution_count": 4,
   "metadata": {
    "collapsed": false
   },
   "outputs": [
    {
     "name": "stdout",
     "output_type": "stream",
     "text": [
      "Random restarts: [####################] 100% (100/100) Elapsed time: 0:01:17\n",
      "Model trained!\n"
     ]
    }
   ],
   "source": [
    "K = 3\n",
    "beta = 0.01\n",
    "epsilon = 1e-6\n",
    "lam = 0.1\n",
    "iterations = 100\n",
    "random_restarts = 100\n",
    "\n",
    "mls = LeastSquaresMixture(X_train, y_train, K=K)\n",
    "mls.train( beta=beta, lam=lam, iterations=iterations, epsilon=epsilon, random_restarts=random_restarts)\n",
    "print(\"Model trained!\")"
   ]
  },
  {
   "cell_type": "markdown",
   "metadata": {},
   "source": [
    "## Visualization"
   ]
  },
  {
   "cell_type": "code",
   "execution_count": 5,
   "metadata": {
    "collapsed": false
   },
   "outputs": [
    {
     "name": "stdout",
     "output_type": "stream",
     "text": [
      "-138.4352124984955\n",
      "13.860490010179065\n",
      "[ 0.02726923  0.96288334  0.00984744]\n",
      "[[  1.68119163e-01   9.28654316e-02   5.46441732e+00]\n",
      " [  2.76368143e-02  -2.14177700e-01  -1.02451511e+00]\n",
      " [  5.62872065e-01   3.18771466e-01  -1.18602283e+00]\n",
      " [  4.29117375e-01   1.85107055e-01  -9.04453861e-01]\n",
      " [  3.94353086e-01   1.42204097e-01  -7.70272084e-01]\n",
      " [  3.93827659e-01  -3.75849607e-01   1.36905167e-01]\n",
      " [  4.37901554e-01  -3.62653922e-01  -1.05472997e-01]\n",
      " [  5.71929352e-01   2.72935602e-01  -6.63451388e-02]\n",
      " [  5.51978136e-01   2.11562294e-02  -4.08782651e-01]\n",
      " [  5.76930341e-01   2.44193822e-03   2.41439902e-01]\n",
      " [  5.98004220e-01  -9.06415311e-02   5.02275314e-01]\n",
      " [  5.57306327e-01   1.77282826e-01   6.33750778e-01]\n",
      " [  5.89058702e-01  -5.70118281e-02   3.96723253e-01]\n",
      " [  5.84058837e-01  -2.50432600e-01   5.51688079e-01]\n",
      " [  5.60719426e-01  -1.05537027e+00   5.32647254e-01]\n",
      " [  5.82593204e-01  -8.72134539e-01   1.22382170e-01]\n",
      " [  4.41193129e-01   6.84079929e-02  -9.71695055e-02]\n",
      " [  4.45020747e-01  -3.41100432e-01  -2.50448145e-01]\n",
      " [  3.97871366e-01  -5.30964200e-01  -1.93963558e-01]\n",
      " [  4.08781970e-01  -3.64420400e-01  -5.48896835e-02]\n",
      " [  4.10988882e-01  -2.12709874e-01  -1.42263077e-01]\n",
      " [  4.37344817e-01  -2.82624095e-02  -9.52100218e-02]\n",
      " [  4.64240562e-01   1.02252452e-01  -1.71623039e-01]\n",
      " [  4.93633650e-01  -1.10459703e-01  -3.15693391e-01]\n",
      " [  5.09119874e-01  -1.26129180e-01  -2.28138398e-01]\n",
      " [  5.31404746e-01  -1.31491766e-01  -2.37364382e-01]\n",
      " [  5.45813364e-01  -2.60541551e-01  -9.12346364e-02]\n",
      " [  5.23757162e-01  -7.35857314e-03   4.79954327e-02]\n",
      " [  5.16011775e-01  -2.93920509e-01   2.83739011e-01]\n",
      " [  4.63907216e-01  -1.84958577e-01   4.37632738e-01]\n",
      " [  4.61897794e-01   1.51130674e-01   5.78688390e-01]\n",
      " [  4.54108307e-01   2.34602987e-01   7.99129526e-01]\n",
      " [  4.77122633e-01   5.78748523e-01   1.15417315e+00]\n",
      " [  4.45868327e-01   6.88280843e-01   1.02702465e+00]\n",
      " [  4.65332291e-01   5.95973094e-01   1.18043635e+00]\n",
      " [  4.74186029e-01   4.54070580e-01   1.08910443e+00]\n",
      " [  4.43543478e-01   5.51236756e-01   1.05769132e+00]\n",
      " [  4.21947692e-01   6.20885513e-01   1.15541382e+00]\n",
      " [  4.08910978e-01   4.84843887e-01   1.12318148e+00]\n",
      " [  4.22052956e-01   5.51208461e-01   1.09413041e+00]\n",
      " [  4.44523314e-01   8.89664443e-01   1.11887394e+00]\n",
      " [  4.42414876e-01   1.07650380e+00   1.17379258e+00]\n",
      " [  4.53218200e-01   1.44472698e+00   1.12832242e+00]\n",
      " [  4.25210426e-01   1.70085641e+00   9.42368613e-01]\n",
      " [  4.35720995e-01   1.76056911e+00   8.94131404e-01]\n",
      " [  4.41344604e-01   2.01072688e+00   9.04433417e-01]\n",
      " [  4.48910097e-01   2.20885099e+00   8.49270961e-01]\n",
      " [  4.93850989e-01   2.81046469e+00   9.88219979e-01]\n",
      " [  5.03538831e-01   3.17004406e+00   1.03023820e+00]\n",
      " [  5.26900511e-01   3.91607876e+00   9.60586346e-01]\n",
      " [  5.29972387e-01   4.43714403e+00   8.17786870e-01]]\n"
     ]
    }
   ],
   "source": [
    "print(mls.marginal_likelihood)\n",
    "print(mls.beta)\n",
    "print(mls.pi)\n",
    "print(mls.w)"
   ]
  },
  {
   "cell_type": "markdown",
   "metadata": {},
   "source": [
    "## Evaluation"
   ]
  },
  {
   "cell_type": "code",
   "execution_count": 13,
   "metadata": {
    "collapsed": false
   },
   "outputs": [
    {
     "name": "stdout",
     "output_type": "stream",
     "text": [
      "Predicted: [ 0.62737724  1.02078797  6.10354412] | Actual: [ 1.0474]\n",
      "Predicted: [ 0.06809869  0.71237923  5.73474671] | Actual: [ 0.01470588]\n",
      "Predicted: [ 0.05232462  0.68517098  5.7180194 ] | Actual: [ 0.00041509]\n",
      "Predicted: [ 0.19182241  0.83250293  5.83535253] | Actual: [ 0.12817187]\n",
      "Predicted: [ 1.0201619   1.48000254  6.42072641] | Actual: [ 1.45708539]\n",
      "Predicted: [  8.95543047  12.31929952  12.9719632 ] | Actual: [ 11.01256378]\n",
      "Predicted: [ 0.45602537  1.13968912  6.02289436] | Actual: [ 0.3639]\n",
      "Predicted: [ 1.29319801  1.50306064  6.49241181] | Actual: [ 1.44375]\n",
      "Predicted: [ 0.42208534  0.97131498  6.05520356] | Actual: [ 1.007]\n",
      "Predicted: [ 1.96570288  2.53267677  7.33142061] | Actual: [ 1.37]\n",
      "Predicted: [ 0.05172586  0.68497706  5.71761605] | Actual: [ 0.]\n",
      "Predicted: [ 0.22918665  0.91957172  5.8821902 ] | Actual: [ 0.14552632]\n",
      "Predicted: [ 0.50006202  1.36661405  5.99213813] | Actual: [ 1.07073714]\n",
      "Predicted: [ 0.65410612  1.43811728  6.21496433] | Actual: [ 1.03548387]\n",
      "Predicted: [ 0.05172586  0.68497706  5.71761605] | Actual: [ 0.]\n",
      "Predicted: [ 4.23082632  7.31997547  8.65092464] | Actual: [ 4.65243275]\n",
      "Predicted: [ 0.69799093  1.18025684  6.25874177] | Actual: [ 0.47273942]\n",
      "Predicted: [ 4.13066854  3.80058819  8.33501159] | Actual: [ 5.4657659]\n",
      "Predicted: [ 0.05172586  0.68497706  5.71761605] | Actual: [ 0.]\n",
      "Predicted: [ 0.91663169  1.21025633  6.27132767] | Actual: [ 1.14168667]\n",
      "Predicted: [ 4.17333173  6.66947468  8.52457086] | Actual: [ 4.09263158]\n",
      "Predicted: [ 0.29942447  0.83111363  5.91484414] | Actual: [ 0.25]\n",
      "Predicted: [ 0.08716903  0.7446098   5.73257364] | Actual: [ 0.03115]\n",
      "Predicted: [ 1.60990281  2.92706859  6.69676915] | Actual: [ 1.62857143]\n",
      "Predicted: [ 0.05172586  0.68497706  5.71761605] | Actual: [ 0.0001]\n",
      "Predicted: [ 0.0640733   0.70918255  5.72671051] | Actual: [ 0.01]\n",
      "Predicted: [ 0.23540435  0.94643115  5.87016566] | Actual: [ 1.00433333]\n",
      "Predicted: [ 0.10309238  0.74723351  5.75868532] | Actual: [ 0.0504]\n",
      "Predicted: [ 1.46786262  1.81918822  6.70259532] | Actual: [ 1.13561404]\n",
      "Predicted: [ 0.05178382  0.68507735  5.71767819] | Actual: [  8.03571429e-05]\n",
      "Predicted: [ 0.19131274  0.74336005  5.81471834] | Actual: [ 0.10940313]\n",
      "Predicted: [ 0.87349059  1.5094784   6.43398598] | Actual: [ 1.05124138]\n",
      "Predicted: [ 1.3817871   1.54294606  6.74684376] | Actual: [ 1.0757]\n",
      "Predicted: [ 0.16164769  0.76101719  5.80483147] | Actual: [ 0.08273333]\n",
      "Predicted: [ 0.22272255  0.96018843  5.85137485] | Actual: [ 1.035]\n",
      "Predicted: [ 1.27747638  1.49589751  6.68762029] | Actual: [ 1.04]\n",
      "Predicted: [ 1.26026799  1.81755689  6.72826268] | Actual: [ 1.06666667]\n",
      "Predicted: [ 0.84421095  0.99478278  6.15554324] | Actual: [ 0.708]\n",
      "Predicted: [ 0.05441284  0.6858548   5.71967304] | Actual: [ 0.00166667]\n",
      "Predicted: [ 0.05172586  0.68497706  5.71761605] | Actual: [ 0.]\n",
      "Predicted: [ 0.97284327  1.80915745  6.49532606] | Actual: [ 1.19383]\n",
      "Predicted: [ 1.25443174  2.36371251  6.7573983 ] | Actual: [ 1.1312069]\n",
      "Predicted: [ 0.05714782  0.69188711  5.72151753] | Actual: [ 0.0044]\n",
      "Predicted: [ 0.09531255  0.72468131  5.75189528] | Actual: [ 0.19353918]\n",
      "Predicted: [ 0.08394345  0.72416604  5.73801686] | Actual: [ 0.026]\n",
      "Predicted: [ 0.07681304  0.71511988  5.73609268] | Actual: [ 0.0198]\n",
      "Predicted: [ 14.34660242  10.92773325  15.86975205] | Actual: [ 19.30091143]\n",
      "Predicted: [ 12.35244513  15.41350447  16.38489178] | Actual: [ 11.5]\n",
      "Predicted: [ 0.05284836  0.68717756  5.71844281] | Actual: [ 0.00090909]\n",
      "Predicted: [ 0.11473266  0.75009861  5.74194453] | Actual: [ 0.05]\n",
      "Predicted: [ 0.85979586  1.24008508  6.31221141] | Actual: [ 1.07008984]\n",
      "Predicted: [ 0.239148    0.82426264  5.85749233] | Actual: [ 0.34474375]\n",
      "Predicted: [ 1.25505686  2.10125354  6.71641659] | Actual: [ 1.1904]\n",
      "Predicted: [ 1.94812468  1.61780578  7.02834848] | Actual: [ 2.0554]\n",
      "Predicted: [ 0.7534923   1.59939231  6.31502339] | Actual: [ 1.03692308]\n",
      "Predicted: [ 0.88601004  1.21169485  6.31237782] | Actual: [ 1.02264]\n",
      "Predicted: [ 0.44321908  1.19430304  5.85502867] | Actual: [ 1.03994355]\n",
      "Predicted: [ 0.0539114   0.68822064  5.72033264] | Actual: [ 0.002]\n",
      "Predicted: [ 0.72922092  0.98622256  6.26434932] | Actual: [ 1.29545455]\n",
      "Predicted: [ 0.16646485  0.86588864  5.82693892] | Actual: [ 0.0998]\n",
      "Predicted: [ 0.07395201  0.72088976  5.73699872] | Actual: [ 0.02083333]\n",
      "Predicted: [ 0.35595743  0.95809552  5.90046887] | Actual: [ 0.342]\n",
      "Predicted: [ 0.13835085  0.73396143  5.76916081] | Actual: [ 0.1483369]\n",
      "Predicted: [ 1.35982495  2.21817986  6.72240092] | Actual: [ 1.0115]\n",
      "Predicted: [ 1.83854282  2.01936203  6.70443429] | Actual: [ 2.05555556]\n",
      "Predicted: [ 0.05423352  0.68924904  5.71990797] | Actual: [ 0.00220554]\n",
      "Predicted: [ 0.48359299  0.94236715  5.94513607] | Actual: [ 1.]\n",
      "Predicted: [ 0.05172586  0.68497706  5.71761605] | Actual: [ 0.00208333]\n",
      "Predicted: [ 0.11733148  0.75247662  5.77659624] | Actual: [ 0.10573328]\n",
      "Predicted: [ 0.77550015  1.27190717  6.26363925] | Actual: [ 0.53857143]\n",
      "Predicted: [ 1.14850116  1.76261855  6.49600741] | Actual: [ 1.21799146]\n",
      "Predicted: [ 0.13372969  0.72497853  5.77498668] | Actual: [ 0.058]\n",
      "Predicted: [ 0.22156277  0.83982094  5.84439753] | Actual: [ 0.15566667]\n",
      "Predicted: [ 0.97051888  1.48483893  6.40845829] | Actual: [ 1.65117647]\n",
      "Predicted: [ 3.21496882  4.65407704  7.8409562 ] | Actual: [ 4.62168348]\n",
      "Predicted: [ 1.97490984  2.90004479  7.30491628] | Actual: [ 1.96010811]\n",
      "Predicted: [ 1.00656883  1.65085944  5.76064749] | Actual: [ 1.09777778]\n",
      "Predicted: [ 0.12748658  0.76999764  5.76862113] | Actual: [ 0.0631]\n",
      "Predicted: [ 0.53915144  1.23853193  6.1158712 ] | Actual: [ 1.0081]\n",
      "Predicted: [ 0.14039615  0.71394227  5.78549678] | Actual: [ 0.055]\n",
      "Predicted: [ 0.05580064  0.68945882  5.7213369 ] | Actual: [ 0.00336364]\n",
      "Predicted: [ 0.12381698  0.79487152  5.77665745] | Actual: [ 0.06]\n",
      "Predicted: [ 0.33463662  0.83628553  5.91627542] | Actual: [ 0.95271732]\n",
      "Predicted: [ 0.0521643   0.68510258  5.71791898] | Actual: [ 0.00028571]\n",
      "Predicted: [ 0.89049638  1.84439307  6.29069852] | Actual: [ 1.2749]\n",
      "Predicted: [ 2.49524286  4.35089753  7.51629755] | Actual: [ 2.433]\n",
      "Predicted: [ 1.02109975  1.79464698  6.44949356] | Actual: [ 1.118]\n",
      "Predicted: [ 0.87436373  1.17808125  6.15540653] | Actual: [ 1.83100863]\n",
      "Predicted: [ 1.79525553  3.77765331  7.21644635] | Actual: [ 1.86066667]\n",
      "Predicted: [ 1.72663562  3.17435553  7.20874977] | Actual: [ 1.60986667]\n",
      "Predicted: [ 1.10843383  1.46982939  6.47356807] | Actual: [ 1.05175]\n",
      "Predicted: [ 0.95700555  1.37061273  6.39687912] | Actual: [ 1.098385]\n",
      "Predicted: [ 1.25375393  2.5799417   6.81410879] | Actual: [ 1.066]\n",
      "Predicted: [ 0.92299324  1.58488484  6.48787691] | Actual: [ 1.0863]\n",
      "Predicted: [ 22.51069087  20.90000706  24.65921947] | Actual: [ 21.56764339]\n",
      "Predicted: [ 0.06596798  0.70790353  5.73344807] | Actual: [ 0.02608696]\n",
      "Predicted: [ 0.76411626  1.78624875  6.14451325] | Actual: [ 1.024]\n",
      "Predicted: [ 0.40711996  0.91181876  6.01214098] | Actual: [ 0.25866667]\n",
      "Predicted: [ 0.86793018  1.40848391  6.35976628] | Actual: [ 1.011]\n",
      "Predicted: [ 1.80126525  2.94885811  6.85993626] | Actual: [ 1.5939629]\n",
      "Predicted: [ 1.5612774   1.94553033  6.9343386 ] | Actual: [ 1.28888763]\n",
      "Predicted: [ 1.40055078  2.43419864  6.52242836] | Actual: [ 1.5402]\n",
      "Predicted: [ 0.05872865  0.69524531  5.72305018] | Actual: [ 0.00565]\n",
      "Predicted: [ 0.72160428  1.0742579   6.2083707 ] | Actual: [ 1.]\n",
      "Predicted: [ 1.44172561  1.64471002  6.77429638] | Actual: [ 1.00833333]\n",
      "Predicted: [ 2.4314945   2.63956984  7.70002915] | Actual: [ 2.316]\n",
      "Predicted: [ 0.67519628  0.98307893  6.14667316] | Actual: [ 1.06709]\n",
      "Predicted: [ 0.05635172  0.69034228  5.72175696] | Actual: [ 0.00407719]\n",
      "Predicted: [ 0.76538386  1.98681766  6.03652377] | Actual: [ 1.0625]\n",
      "Predicted: [ 0.37823722  0.99566286  5.9735824 ] | Actual: [ 1.008]\n",
      "Predicted: [ 0.08861301  0.74654238  5.74273329] | Actual: [ 0.03125]\n",
      "Predicted: [ 0.79038726  1.40455631  6.28068377] | Actual: [ 1.07313333]\n",
      "Predicted: [ 0.72200353  1.53341557  6.16859854] | Actual: [ 1.01875]\n",
      "Predicted: [ 0.58469314  1.58047007  6.24271547] | Actual: [ 1.025]\n",
      "Predicted: [ 0.05254229  0.68574081  5.71829342] | Actual: [ 0.0009]\n",
      "Predicted: [ 0.23213779  0.88398713  5.88953995] | Actual: [ 0.1566]\n",
      "Predicted: [ 0.83363049  1.27480803  6.18981735] | Actual: [ 1.10944429]\n",
      "Predicted: [ 0.256819    0.86526573  5.85108466] | Actual: [ 0.17361007]\n",
      "Predicted: [ 0.05172586  0.68497706  5.71761605] | Actual: [ 0.]\n",
      "Predicted: [ 0.20343192  0.79152609  5.84531629] | Actual: [ 0.1509434]\n",
      "Predicted: [ 0.05172586  0.68497706  5.71761605] | Actual: [ 0.]\n",
      "Predicted: [ 0.6193305   1.29702939  6.17967896] | Actual: [ 0.46111111]\n",
      "Predicted: [ 0.11832264  0.80718529  5.76592828] | Actual: [ 0.075]\n",
      "Predicted: [ 1.14192217  2.52211919  6.65026678] | Actual: [ 1.00833333]\n",
      "Predicted: [ 0.11421798  0.73881847  5.73485608] | Actual: [ 0.052]\n",
      "Predicted: [ 2.2112657   2.72043816  7.50871372] | Actual: [ 1.87187198]\n",
      "Predicted: [ 1.73258714  1.77853535  7.00228719] | Actual: [ 1.5603]\n",
      "Predicted: [ 0.0552537   0.69189291  5.72021446] | Actual: [ 0.00285714]\n",
      "Predicted: [ 1.30630671  1.62821631  6.67197123] | Actual: [ 1.0578]\n",
      "Predicted: [ 0.26000322  0.95615485  5.81717064] | Actual: [ 0.166]\n",
      "Predicted: [ 0.64905808  1.29000575  5.93149282] | Actual: [ 1.04242667]\n",
      "Predicted: [ 0.05378377  0.68901131  5.71913179] | Actual: [ 0.00166667]\n",
      "Predicted: [ 0.05172586  0.68497706  5.71761605] | Actual: [ 0.]\n",
      "Predicted: [ 0.062698    0.70637136  5.72646222] | Actual: [ 0.00933333]\n",
      "Predicted: [ 0.39734765  0.81478947  5.90691623] | Actual: [ 1.07692308]\n",
      "Predicted: [ 0.78209513  0.94974379  6.25023051] | Actual: [ 1.]\n",
      "Predicted: [ 1.14977765  1.68629446  6.60467141] | Actual: [ 1.26714862]\n",
      "Predicted: [ 0.97732962  1.58096115  6.50084644] | Actual: [ 1.0532]\n",
      "Predicted: [ 0.05718762  0.69444191  5.72308275] | Actual: [ 0.005]\n",
      "Predicted: [ 0.05966128  0.69381713  5.72547642] | Actual: [ 0.006416]\n",
      "Predicted: [ 0.05327613  0.68776344  5.71887161] | Actual: [ 0.00125]\n",
      "Predicted: [ 0.4391044   0.84683831  6.03846634] | Actual: [ 0.24942792]\n",
      "Predicted: [ 0.82361857  1.16833702  6.24300143] | Actual: [ 1.278]\n",
      "Predicted: [ 0.57507181  1.06333739  6.09165643] | Actual: [ 1.0355]\n",
      "Predicted: [ 0.05306935  0.68541593  5.71864454] | Actual: [ 0.00083333]\n",
      "Predicted: [ 1.67707297  1.99759926  6.9530389 ] | Actual: [ 1.208]\n",
      "Predicted: [ 0.06600558  0.70732903  5.73378893] | Actual: [ 0.013]\n",
      "Predicted: [ 0.19487613  0.86107343  5.86905103] | Actual: [ 0.13906]\n",
      "Predicted: [ 0.05247995  0.68508581  5.71786609] | Actual: [ 0.00142857]\n",
      "Predicted: [ 0.06418975  0.71025841  5.72931841] | Actual: [ 0.0116]\n",
      "Predicted: [ 0.07422566  0.70764543  5.72913612] | Actual: [ 0.0325]\n",
      "Predicted: [ 0.67672975  1.112995    6.15967957] | Actual: [ 1.01642857]\n",
      "Predicted: [ 0.05850543  0.69490276  5.72287609] | Actual: [ 0.0052]\n",
      "Predicted: [ 0.88091763  1.25269738  6.28334145] | Actual: [ 1.07901971]\n",
      "Predicted: [ 0.3612685   1.01917717  5.94881457] | Actual: [ 0.25666667]\n",
      "Predicted: [ 1.050433    1.49252178  6.54578135] | Actual: [ 1.01466667]\n",
      "Predicted: [ 0.52017636  1.10540374  6.02236346] | Actual: [ 0.93530084]\n",
      "Predicted: [ 0.05898907  0.69085441  5.72428389] | Actual: [ 0.00545455]\n",
      "Predicted: [ 1.18463804  1.79852046  6.56797744] | Actual: [ 1.065]\n",
      "Predicted: [ 2.49460537  4.37254267  7.17403241] | Actual: [ 2.55582404]\n",
      "Predicted: [ 0.08636606  0.69952789  5.74303868] | Actual: [ 0.0284]\n",
      "Predicted: [ 1.54703608  2.12722227  6.98752849] | Actual: [ 1.32111]\n",
      "Predicted: [ 0.19488602  0.87038176  5.83177628] | Actual: [ 0.11127273]\n",
      "Predicted: [ 0.11704609  0.79163553  5.78022287] | Actual: [ 0.05866667]\n",
      "Predicted: [ 0.29479905  1.12610057  5.85671317] | Actual: [ 0.23025]\n",
      "Predicted: [ 1.40840529  2.12488993  6.81532306] | Actual: [ 1.0674]\n",
      "Predicted: [ 0.35481989  1.01169042  5.84770293] | Actual: [ 1.07294]\n",
      "Predicted: [ 0.0773629   0.74853627  5.72213018] | Actual: [ 0.01666667]\n",
      "Predicted: [ 0.94113502  1.34869669  6.36165119] | Actual: [ 1.195]\n",
      "Predicted: [ 0.07798181  0.71775893  5.74213252] | Actual: [ 0.022]\n",
      "Predicted: [ 0.05748553  0.68881151  5.7196016 ] | Actual: [ 0.007]\n",
      "Predicted: [ 0.07852495  0.76322617  5.67431315] | Actual: [ 0.03047619]\n",
      "Predicted: [ 0.94386543  1.22498163  6.32027087] | Actual: [ 1.05066154]\n",
      "Predicted: [ 4.80003554  6.66984445  9.48961114] | Actual: [ 6.174]\n",
      "Predicted: [ 1.70664887  2.11969576  7.11397941] | Actual: [ 1.3125]\n",
      "Predicted: [ 0.05172586  0.68497706  5.71761605] | Actual: [ 0.]\n",
      "Predicted: [ 0.09060507  0.73085161  5.75016421] | Actual: [ 0.0512]\n",
      "Predicted: [ 0.11989866  0.76938521  5.78082784] | Actual: [ 0.05694444]\n",
      "Predicted: [ 0.05405793  0.68880568  5.71998028] | Actual: [ 0.00211111]\n",
      "Predicted: [ 1.01980493  2.38055827  5.25408436] | Actual: [ 1.]\n",
      "Predicted: [ 0.59950619  1.59448968  6.13836617] | Actual: [ 1.04928571]\n",
      "Predicted: [ 0.05172586  0.68497706  5.71761605] | Actual: [ 0.00857143]\n",
      "Predicted: [ 1.39725126  2.7068453   6.66365074] | Actual: [ 1.276]\n",
      "Predicted: [ 0.40199434  0.92675373  5.95915635] | Actual: [ 1.20055864]\n",
      "Predicted: [ 0.47516708  1.20243045  6.08357998] | Actual: [ 0.44223333]\n",
      "Predicted: [ 0.05251919  0.68627207  5.71847708] | Actual: [ 0.0007]\n",
      "Predicted: [ 1.10645998  2.12760712  6.56217478] | Actual: [ 1.07711111]\n",
      "Predicted: [ 0.61987464  1.01086209  6.10164973] | Actual: [ 1.0607]\n",
      "Predicted: [ 0.05172586  0.68497706  5.71761605] | Actual: [ 0.]\n",
      "Predicted: [ 0.17395679  0.82390294  5.84116045] | Actual: [ 0.10166667]\n",
      "Predicted: [ 0.90230454  1.47981357  6.40692416] | Actual: [ 1.05666667]\n",
      "Predicted: [ 1.43002051  1.79525727  6.75638103] | Actual: [ 1.1844]\n",
      "Predicted: [ 0.26545529  1.09137459  5.92246575] | Actual: [ 0.2125]\n",
      "Predicted: [ 0.12129882  0.83102586  5.77788741] | Actual: [ 0.072]\n",
      "Predicted: [ 1.10176712  2.05746273  6.29019709] | Actual: [ 1.08254545]\n",
      "Predicted: [ 1.26019496  2.3698302   6.3283591 ] | Actual: [ 1.1105946]\n",
      "Predicted: [ 1.36326317  1.91974018  6.75682185] | Actual: [ 1.01]\n",
      "Predicted: [  6.55299962  10.03855633   9.35433904] | Actual: [ 7.55283333]\n",
      "Predicted: [ 0.15068683  0.79047318  5.79536951] | Actual: [ 0.08624324]\n",
      "Predicted: [ 0.97842503  1.38531504  6.36878763] | Actual: [ 0.9974716]\n"
     ]
    }
   ],
   "source": [
    "for i, x_new in enumerate(X_test):\n",
    "    x_new = x_new / X_max\n",
    "    y_new, _ = mls.predict(list(x_new))\n",
    "    print(\"Predicted: %s | Actual: %s\" % (y_new, y_test[i]))"
   ]
  },
  {
   "cell_type": "code",
   "execution_count": null,
   "metadata": {
    "collapsed": true
   },
   "outputs": [],
   "source": []
  }
 ],
 "metadata": {
  "kernelspec": {
   "display_name": "Python 3",
   "language": "python",
   "name": "python3"
  },
  "language_info": {
   "codemirror_mode": {
    "name": "ipython",
    "version": 3
   },
   "file_extension": ".py",
   "mimetype": "text/x-python",
   "name": "python",
   "nbconvert_exporter": "python",
   "pygments_lexer": "ipython3",
   "version": "3.5.0"
  }
 },
 "nbformat": 4,
 "nbformat_minor": 0
}
