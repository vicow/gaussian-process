{
 "cells": [
  {
   "cell_type": "markdown",
   "metadata": {},
   "source": [
    "# Sidekick - Mixture of Least Squares\n",
    "We train a mixture of least squares, experimenting with different number of components."
   ]
  },
  {
   "cell_type": "code",
   "execution_count": 38,
   "metadata": {
    "collapsed": false
   },
   "outputs": [],
   "source": [
    "%matplotlib inline\n",
    "from __future__ import print_function\n",
    "import os\n",
    "import sys\n",
    "sys.path.insert(0, os.path.abspath('../utils/')) # Add sibling to Python path\n",
    "sys.stdout.flush() # Print output on the fly in Notebook\n",
    "import matplotlib\n",
    "matplotlib.rcParams['figure.figsize'] = (18,8)\n",
    "matplotlib.rcParams['font.size'] = 16\n",
    "matplotlib.rcParams['legend.fontsize'] = 16\n",
    "from IPython.display import display\n",
    "import numpy as np\n",
    "import pickle as cp\n",
    "import matplotlib.pyplot as plt\n",
    "from dataset import Sidekick\n",
    "from model import LeastSquaresMixture\n",
    "from math import floor\n",
    "\n",
    "DATA_DIR = \"../data/sidekick\"\n",
    "\n",
    "def subsample(t0, t1, n_samples):\n",
    "    t = t1 - t0\n",
    "    if n_samples >= t:\n",
    "        return range(t0, t1)\n",
    "    samples = range(t0, t1, int(np.ceil(t / float(n_samples))))\n",
    "    return samples"
   ]
  },
  {
   "cell_type": "markdown",
   "metadata": {},
   "source": [
    "## Load and split data"
   ]
  },
  {
   "cell_type": "code",
   "execution_count": 39,
   "metadata": {
    "collapsed": false
   },
   "outputs": [
    {
     "name": "stdout",
     "output_type": "stream",
     "text": [
      "Loading data set...\n",
      "Data loaded.\n"
     ]
    }
   ],
   "source": [
    "sk = Sidekick()\n",
    "sk.load()\n",
    "projects_train, projects_test = sk.split()"
   ]
  },
  {
   "cell_type": "markdown",
   "metadata": {},
   "source": [
    "## Data processing"
   ]
  },
  {
   "cell_type": "code",
   "execution_count": 40,
   "metadata": {
    "collapsed": false
   },
   "outputs": [
    {
     "name": "stdout",
     "output_type": "stream",
     "text": [
      "Training on 788 projects\n",
      "Testing on 200 projects\n",
      "Number of features: 25\n"
     ]
    }
   ],
   "source": [
    "N = 1000\n",
    "N_train = int(floor(0.8*N))\n",
    "seed = 2\n",
    "t0 = 1\n",
    "t1 = 500\n",
    "n_samples = 25\n",
    "T = 999\n",
    "\n",
    "samples = subsample(t0, t1, n_samples)\n",
    "t = len(samples)\n",
    "\n",
    "N_projects = sk.choose_n_projects(n=N, seed=seed)\n",
    "projects_train = N_projects[:N_train]\n",
    "projects_test = N_projects[N_train:]\n",
    "\n",
    "# Remove outliers\n",
    "outlier_threshold = 10  # Ignore the project whose total pledged money if more that o_t times their goal\n",
    "projects_train = [p for p in projects_train if p.money[T] < outlier_threshold]\n",
    "\n",
    "X_train = np.ndarray(shape=(len(projects_train), t), buffer=np.array([p.money[samples] for p in projects_train]), dtype=float) \n",
    "y_train = np.expand_dims(np.array([p.money[T] for p in projects_train]), axis=1)\n",
    "X_test = np.ndarray(shape=(len(projects_test), t), buffer=np.array([p.money[samples] for p in projects_test]), dtype=float) \n",
    "y_test = np.expand_dims(np.array([p.money[T] for p in projects_test]), axis=1)\n",
    "\n",
    "# Required to contain the prediction in a reasonable range\n",
    "# The problem arises when evaluating the likelihood in the expression for gamma_nk\n",
    "X_max = np.max(X_train, axis=0)\n",
    "X_train = X_train / X_max[np.newaxis, :]\n",
    "# Apply same preprocessing to testing set\n",
    "X_test = X_test / X_max[np.newaxis, :]  \n",
    "\n",
    "print(\"Training on %s projects\" % len(X_train))\n",
    "print(\"Testing on %s projects\" % len(X_test))\n",
    "print(\"Number of features: %s\" % n_samples)"
   ]
  },
  {
   "cell_type": "code",
   "execution_count": 41,
   "metadata": {
    "collapsed": false
   },
   "outputs": [
    {
     "data": {
      "text/plain": [
       "(array([ 393.,  331.,   33.,   13.,    4.,    5.,    4.,    2.,    2.,    1.]),\n",
       " array([ 0.    ,  0.8335,  1.667 ,  2.5005,  3.334 ,  4.1675,  5.001 ,\n",
       "         5.8345,  6.668 ,  7.5015,  8.335 ]),\n",
       " <a list of 10 Patch objects>)"
      ]
     },
     "execution_count": 41,
     "metadata": {},
     "output_type": "execute_result"
    },
    {
     "data": {
      "image/png": "[encoded data removed]",
      "text/plain": [
       "<matplotlib.figure.Figure at 0x13936b3c8>"
      ]
     },
     "metadata": {},
     "output_type": "display_data"
    }
   ],
   "source": [
    "plt.hist(y_train)"
   ]
  },
  {
   "cell_type": "markdown",
   "metadata": {},
   "source": [
    "## Training"
   ]
  },
  {
   "cell_type": "markdown",
   "metadata": {},
   "source": [
    "### Grid Search Training"
   ]
  },
  {
   "cell_type": "code",
   "execution_count": 56,
   "metadata": {
    "collapsed": false
   },
   "outputs": [
    {
     "name": "stdout",
     "output_type": "stream",
     "text": [
      "Grid Search (7/7): [####################] 100% Elapsed time: 0:00:53\n",
      "Model:        LeastSquaresMixture (3 components)\n",
      "Likelihood:   -444.90219238321333\n",
      "Beta:         5.586793111570529\n",
      "Lambda:       10.0\n",
      "Pi:           [  2.67509537e-03   9.97323956e-01   9.48458937e-07]\n",
      "Weights norm: [0.059885965547636033, 1.9106904072563196, 2.3500061779252556e-05]\n",
      "\n"
     ]
    }
   ],
   "source": [
    "K = 3\n",
    "epsilon = 1e-2\n",
    "iterations = 1000\n",
    "random_restarts = 10\n",
    "betas = np.array([1/np.var(y_train)])\n",
    "lambdas = np.logspace(-8, 2, 50)\n",
    "lambdas = np.array([0.0001, 0.001, 0.01, 0.1, 1, 10])\n",
    "k_fold = 2\n",
    "\n",
    "mls = LeastSquaresMixture(X_train, y_train, K=K,\n",
    "                          iterations=iterations, epsilon=epsilon, random_restarts=random_restarts)\n",
    "rmse_avg, rmse_std, accuracy_avg, accuracy_std = mls.grid_search(betas, lambdas, k_fold=k_fold)\n",
    "\n",
    "print(mls)"
   ]
  },
  {
   "cell_type": "markdown",
   "metadata": {},
   "source": [
    "### Simple Training"
   ]
  },
  {
   "cell_type": "code",
   "execution_count": 138,
   "metadata": {
    "collapsed": false
   },
   "outputs": [
    {
     "name": "stdout",
     "output_type": "stream",
     "text": [
      "Random restarts (50/50): [####################] 100% Elapsed time: 0:02:04\n",
      "Model:        LeastSquaresMixture (7 components)\n",
      "Likelihood:   131.74328913178996\n",
      "Beta:         124.79841294612888\n",
      "Lambda:       0.01\n",
      "Pi:           [ 0.2131042   0.2003487   0.06870471  0.14772062  0.18863237  0.00514362\n",
      "  0.17634579]\n",
      "Weights norm: [5.8262504104570807, 3.6229247177347172, 2.8655613933144521, 3.0591087840494056, 7.3163097878613277, 4.349309515884733, 3.9336262313417794]\n",
      "\n"
     ]
    }
   ],
   "source": [
    "K = 7\n",
    "beta = 1 / np.var(y_train)\n",
    "#beta = 0.0001\n",
    "epsilon = 1e-4\n",
    "lam = 0.01\n",
    "iterations = 1000\n",
    "random_restarts = 50\n",
    "\n",
    "mls = LeastSquaresMixture(X_train, y_train, \n",
    "                          K=K, beta=beta, lam=lam, \n",
    "                          iterations=iterations, epsilon=epsilon, random_restarts=random_restarts)\n",
    "mls.train(verbose=False, seed=26)\n",
    "\n",
    "print(mls)"
   ]
  },
  {
   "cell_type": "markdown",
   "metadata": {},
   "source": [
    "## Testing"
   ]
  },
  {
   "cell_type": "markdown",
   "metadata": {},
   "source": [
    "### Full Test Set"
   ]
  },
  {
   "cell_type": "code",
   "execution_count": 139,
   "metadata": {
    "collapsed": false
   },
   "outputs": [
    {
     "name": "stdout",
     "output_type": "stream",
     "text": [
      "Evaluating model LeastSquaresMixture (7 components)...\n",
      "Data point (200/200): [####################] 100% Elapsed time: 0:00:02\n",
      "Accuracy: 0.815\n",
      "RMSE    : 17.8441633571\n",
      "Chosen  : Counter({0: 100, 1: 42, 4: 34, 6: 16, 3: 5, 2: 2, 5: 1})\n"
     ]
    }
   ],
   "source": [
    "rmse, accuracy, chosen = mls.evaluate(X_test, y_test, verbose=True)"
   ]
  },
  {
   "cell_type": "markdown",
   "metadata": {},
   "source": [
    "### Single Point"
   ]
  },
  {
   "cell_type": "code",
   "execution_count": 147,
   "metadata": {
    "collapsed": false
   },
   "outputs": [
    {
     "name": "stdout",
     "output_type": "stream",
     "text": [
      "Predicted:  [ 0.05484403  0.93014891  0.06743356  0.03040389  0.02872647  1.18027533\n",
      "  0.03309206]\n",
      "Posteriors: ['25.77%', '0.00%', '8.03%', '19.07%', '24.44%', '0.00%', '22.69%']\n",
      "Actual:     [ 0.01470588]\n"
     ]
    }
   ],
   "source": [
    "test = 1\n",
    "x_new = X_test[test]\n",
    "y_new, y_posteriors = mls.predict(x_new, posteriors=True)\n",
    "print(\"Predicted:  %s\" % y_new[0])\n",
    "print(\"Posteriors: %s\" % [\"%0.2f%%\" % (p * 100) for p in y_posteriors])\n",
    "print(\"Actual:     %s\" % y_test[test])"
   ]
  },
  {
   "cell_type": "markdown",
   "metadata": {},
   "source": [
    "## Plots"
   ]
  },
  {
   "cell_type": "markdown",
   "metadata": {},
   "source": [
    "### 0-1 Loss"
   ]
  },
  {
   "cell_type": "code",
   "execution_count": null,
   "metadata": {
    "collapsed": false
   },
   "outputs": [],
   "source": [
    "plt.subplots_adjust(left=.2, right=0.95, bottom=0.15, top=0.95)\n",
    "plt.imshow(1 - np.array(accuracy_avg), interpolation='nearest', cmap=plt.cm.hot)\n",
    "plt.xlabel('betas')\n",
    "plt.ylabel('lambdas')\n",
    "plt.colorbar()\n",
    "plt.xticks(np.arange(len(betas)), [\"%s\" % b for b in betas], rotation=45)\n",
    "plt.yticks(np.arange(len(lambdas)), [\"%s\" % l for l in lambdas])\n",
    "plt.title('0-1 Loss')\n",
    "plt.show()"
   ]
  },
  {
   "cell_type": "code",
   "execution_count": null,
   "metadata": {
    "collapsed": false
   },
   "outputs": [],
   "source": [
    "plt.errorbar(list(lambdas), [1-a[0] for a in accuracy_avg], yerr=[a[0] for a in accuracy_std])\n",
    "plt.xscale('log')\n",
    "plt.title(\"0-1 Loss (beta = %s)\" % betas[0])\n",
    "plt.xlabel(\"lambdas\")\n",
    "plt.ylabel(\"0-1 Loss\")\n",
    "plt.show()"
   ]
  },
  {
   "cell_type": "markdown",
   "metadata": {},
   "source": [
    "### RMSE"
   ]
  },
  {
   "cell_type": "code",
   "execution_count": null,
   "metadata": {
    "collapsed": false
   },
   "outputs": [],
   "source": [
    "plt.subplots_adjust(left=.2, right=0.95, bottom=0.15, top=0.95)\n",
    "plt.imshow(rmse_avg, interpolation='nearest')\n",
    "plt.xticks(np.arange(len(betas)), [\"%0.4f\" % b for b in betas], rotation=45)\n",
    "plt.yticks(np.arange(len(lambdas)), [\"%s\" % l for l in lambdas])\n",
    "plt.colorbar()\n",
    "plt.title('RMSE')\n",
    "plt.xlabel('betas')\n",
    "plt.ylabel('lambdas')\n",
    "plt.show()"
   ]
  },
  {
   "cell_type": "code",
   "execution_count": null,
   "metadata": {
    "collapsed": false
   },
   "outputs": [],
   "source": [
    "plt.errorbar(list(lambdas), [r[0] for r in rmse_avg], yerr=[r[0] for r in rmse_std])\n",
    "plt.xscale('log')\n",
    "plt.title(\"RMSE (beta = %s)\" % betas[0])\n",
    "plt.xlabel(\"lambdas\")\n",
    "plt.ylabel(\"RMSE\")\n",
    "plt.show()"
   ]
  }
 ],
 "metadata": {
  "kernelspec": {
   "display_name": "Python 3",
   "language": "python",
   "name": "python3"
  },
  "language_info": {
   "codemirror_mode": {
    "name": "ipython",
    "version": 3
   },
   "file_extension": ".py",
   "mimetype": "text/x-python",
   "name": "python",
   "nbconvert_exporter": "python",
   "pygments_lexer": "ipython3",
   "version": "3.5.0"
  }
 },
 "nbformat": 4,
 "nbformat_minor": 0
}
