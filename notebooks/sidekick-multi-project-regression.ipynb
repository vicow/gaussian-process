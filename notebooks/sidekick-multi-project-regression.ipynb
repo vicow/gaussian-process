{
 "cells": [
  {
   "cell_type": "markdown",
   "metadata": {},
   "source": [
    "# Sidekick - Multi-Pojects Predictions\n",
    "Scratch work to perform predictions for a project by considering multiple projects."
   ]
  },
  {
   "cell_type": "code",
   "execution_count": 1,
   "metadata": {
    "collapsed": false
   },
   "outputs": [
    {
     "name": "stdout",
     "output_type": "stream",
     "text": [
      "warning in stationary: failed to import cython module: falling back to numpy\n"
     ]
    }
   ],
   "source": [
    "%matplotlib inline\n",
    "import os\n",
    "import sys\n",
    "sys.path.insert(0, os.path.abspath('../src/')) # Add sibling to Python path\n",
    "sys.path.insert(0, os.path.abspath('../src/')) # Add sibling to Python path\n",
    "sys.stdout.flush() # Print output on the fly in Notebook\n",
    "import matplotlib\n",
    "matplotlib.rcParams['figure.figsize'] = (18,8)\n",
    "matplotlib.rcParams['font.size'] = 14\n",
    "matplotlib.rcParams['legend.fontsize'] = 16\n",
    "from IPython.display import display\n",
    "import numpy as np\n",
    "import GPy\n",
    "import cPickle as cp\n",
    "import matplotlib.pyplot as plt\n",
    "from math import floor\n",
    "from dataset import Sidekick \n",
    "\n",
    "DATA_DIR = \"../data/kickstarter-etter-cosn2013\""
   ]
  },
  {
   "cell_type": "markdown",
   "metadata": {},
   "source": [
    "## Load data"
   ]
  },
  {
   "cell_type": "code",
   "execution_count": 2,
   "metadata": {
    "collapsed": false
   },
   "outputs": [
    {
     "name": "stdout",
     "output_type": "stream",
     "text": [
      "Loading projects...\n",
      "Loading statuses...\n",
      "Data loaded.\n"
     ]
    }
   ],
   "source": [
    "sk = Sidekick()\n",
    "sk.load()"
   ]
  },
  {
   "cell_type": "markdown",
   "metadata": {},
   "source": [
    "## Prepare data\n",
    "Keep `T`% of the projects for training and `(100-T)`% for testing."
   ]
  },
  {
   "cell_type": "code",
   "execution_count": 91,
   "metadata": {
    "collapsed": false
   },
   "outputs": [],
   "source": [
    "projects = sk.extract_n_projects(n=1000)\n",
    "num_observations = 1000\n",
    "T = 0.8\n",
    "\n",
    "threshold = int(floor(T * len(projects)))\n",
    "projects_train = projects[:threshold]\n",
    "projects_test = projects[threshold:]\n",
    "X_train = np.ndarray(shape=(num_observations, 1), buffer=np.arange(num_observations), dtype=int) \n",
    "Y_train = np.array([[status[1] for status in project['status']] for project in projects_train]).transpose()\n",
    "assert X.shape[0] == Y.shape[0]\n"
   ]
  },
  {
   "cell_type": "markdown",
   "metadata": {
    "collapsed": false
   },
   "source": [
    "## Train model\n",
    "Train a GP with a given kernel."
   ]
  },
  {
   "cell_type": "code",
   "execution_count": 92,
   "metadata": {
    "collapsed": false
   },
   "outputs": [
    {
     "name": "stdout",
     "output_type": "stream",
     "text": [
      "Optimization restart 1/10, f = -2222508.1565\n",
      "Optimization restart 2/10, f = -2222508.15655\n",
      "Optimization restart 3/10, f = -2222508.15645\n",
      "Optimization restart 4/10, f = -2222508.15655\n",
      "Optimization restart 5/10, f = -2222508.15653\n",
      "Optimization restart 6/10, f = -2222508.15655\n",
      "Optimization restart 7/10, f = -2222508.15655\n",
      "Optimization restart 8/10, f = -2222508.15643\n",
      "Optimization restart 9/10, f = -2222508.15655\n",
      "Optimization restart 10/10, f = -2222508.15644\n"
     ]
    },
    {
     "data": {
      "text/html": [
       "<style type=\"text/css\">\n",
       ".pd{\n",
       "    font-family: \"Courier New\", Courier, monospace !important;\n",
       "    width: 100%;\n",
       "    padding: 3px;\n",
       "}\n",
       "</style>\n",
       "\n",
       "<p class=pd>\n",
       "<b>Model</b>: GP regression<br>\n",
       "<b>Log-likelihood</b>: 2222508.15655<br>\n",
       "<b>Number of Parameters</b>: 3<br>\n",
       "<b>Number of Optimization Parameters</b>: 3<br>\n",
       "<b>Updates</b>: True<br>\n",
       "</p>\n",
       "<style type=\"text/css\">\n",
       ".tg  {font-family:\"Courier New\", Courier, monospace !important;padding:2px 3px;word-break:normal;border-collapse:collapse;border-spacing:0;border-color:#DCDCDC;margin:0px auto;width:100%;}\n",
       ".tg td{font-family:\"Courier New\", Courier, monospace !important;font-weight:bold;color:#444;background-color:#F7FDFA;border-style:solid;border-width:1px;overflow:hidden;word-break:normal;border-color:#DCDCDC;}\n",
       ".tg th{font-family:\"Courier New\", Courier, monospace !important;font-weight:normal;color:#fff;background-color:#26ADE4;border-style:solid;border-width:1px;overflow:hidden;word-break:normal;border-color:#DCDCDC;}\n",
       ".tg .tg-left{font-family:\"Courier New\", Courier, monospace !important;font-weight:normal;text-align:left;}\n",
       ".tg .tg-right{font-family:\"Courier New\", Courier, monospace !important;font-weight:normal;text-align:right;}\n",
       "</style>\n",
       "<table class=\"tg\">\n",
       "<tr>\n",
       "  <th><b>GP_regression.</b></th>\n",
       "  <th><b>Value</b></th>\n",
       "  <th><b>Constraint</b></th>\n",
       "  <th><b>Prior</b></th>\n",
       "  <th><b>Tied to</b></th>\n",
       "</tr>\n",
       "<tr><td class=tg-left>rbf.variance           </td><td class=tg-right>   0.584333509992</td><td class=tg-left>   +ve    </td><td class=tg-left>     </td><td class=tg-left>       </td></tr>\n",
       "<tr><td class=tg-left>rbf.lengthscale        </td><td class=tg-right>    11.6457237476</td><td class=tg-left>   +ve    </td><td class=tg-left>     </td><td class=tg-left>       </td></tr>\n",
       "<tr><td class=tg-left>Gaussian_noise.variance</td><td class=tg-right>7.18772515605e-05</td><td class=tg-left>   +ve    </td><td class=tg-left>     </td><td class=tg-left>       </td></tr>\n",
       "</table>"
      ],
      "text/plain": [
       "<GPy.models.gp_regression.GPRegression at 0x1e16630>"
      ]
     },
     "metadata": {},
     "output_type": "display_data"
    }
   ],
   "source": [
    "kernel = GPy.kern.RBF(input_dim=1)\n",
    "m = GPy.models.GPRegression(X_train, Y_train, kernel)\n",
    "m.optimize_restarts(num_restarts=10)\n",
    "display(m)"
   ]
  },
  {
   "cell_type": "markdown",
   "metadata": {},
   "source": [
    "## Test unseen project\n",
    "We observe 80% of the project pledged money and we predict then the last point, that is the total amount of money pledged at the end of the project. If it is greater than 1, then the project has been funded."
   ]
  },
  {
   "cell_type": "code",
   "execution_count": 129,
   "metadata": {
    "collapsed": false
   },
   "outputs": [
    {
     "name": "stdout",
     "output_type": "stream",
     "text": [
      "Goal: 5000\n",
      "Predicted success: False (0.00±0.76)\n",
      "Actual success: False (0.12)\n"
     ]
    }
   ],
   "source": [
    "new_project = projects_test[50]\n",
    "\n",
    "goal = new_project['project'][1]\n",
    "proportion = 0.5\n",
    "last_observation = 600\n",
    "observe = int(floor(num_observations * proportion))\n",
    "\n",
    "X_observation = np.ndarray(shape=(observe, 1), buffer=np.arange(observe), dtype=int) \n",
    "Y_observation = np.ndarray(shape=(observe, 1), buffer=np.array([status[1] for status in new_project['status'][:observe]]), dtype=float) \n",
    "m.set_XY(X=X_observation, Y=Y_observation)\n",
    "mean, var = m.predict(np.ndarray((1,1), buffer=np.array(last_observation), dtype=int))\n",
    "predicted_pledged = mean[0][0]\n",
    "predicted_var = var[0][0]\n",
    "actual_pledged = new_project['status'][last_observation][1]\n",
    "print \"Goal: %s\" % goal\n",
    "print \"Predicted success: %s (%.2f±%.2f)\" % (str(predicted_pledged > 1), predicted_pledged, np.sqrt(predicted_var))\n",
    "print \"Actual success: %s (%.2f)\" % (str(actual_pledged > 1), actual_pledged)"
   ]
  },
  {
   "cell_type": "markdown",
   "metadata": {},
   "source": [
    "## Evaluation\n",
    "Run an evaluation on the full test set."
   ]
  },
  {
   "cell_type": "code",
   "execution_count": null,
   "metadata": {
    "collapsed": false
   },
   "outputs": [
    {
     "name": "stdout",
     "output_type": "stream",
     "text": [
      "200\n",
      "0.00%\n",
      "0.50%\n",
      "1.00%\n",
      "1.50%\n",
      "2.00%\n",
      "2.50%\n",
      "3.00%\n",
      "3.50%\n",
      "4.00%\n",
      "4.50%\n",
      "5.00%\n",
      "5.50%\n",
      "6.00%\n",
      "6.50%\n",
      "7.00%\n",
      "7.50%\n",
      "8.00%\n",
      "8.50%\n",
      "9.00%\n",
      "9.50%\n",
      "10.00%\n",
      "10.50%\n",
      "11.00%\n",
      "11.50%\n",
      "12.00%\n",
      "12.50%\n",
      "13.00%\n",
      "13.50%\n",
      "14.00%\n",
      "14.50%\n",
      "15.00%\n",
      "15.50%\n",
      "16.00%\n",
      "16.50%\n",
      "17.00%\n",
      "17.50%\n",
      "18.00%\n",
      "18.50%\n",
      "19.00%\n",
      "19.50%\n",
      "20.00%\n",
      "20.50%\n",
      "21.00%\n",
      "21.50%\n",
      "22.00%\n",
      "22.50%\n",
      "23.00%\n",
      "23.50%\n",
      "24.00%\n",
      "24.50%\n",
      "25.00%\n",
      "25.50%\n",
      "26.00%\n",
      "26.50%\n",
      "27.00%\n",
      "27.50%\n",
      "28.00%\n",
      "28.50%\n",
      "29.00%\n",
      "29.50%\n",
      "30.00%\n",
      "30.50%\n",
      "31.00%\n",
      "31.50%\n",
      "32.00%\n",
      "32.50%\n",
      "33.00%\n",
      "33.50%\n",
      "34.00%\n",
      "34.50%\n",
      "35.00%\n",
      "35.50%\n",
      "36.00%\n",
      "36.50%\n",
      "37.00%\n",
      "37.50%\n",
      "38.00%\n",
      "38.50%\n",
      "39.00%\n",
      "39.50%\n",
      "40.00%\n",
      "40.50%\n",
      "41.00%\n",
      "41.50%\n",
      "42.00%\n",
      "42.50%\n",
      "43.00%\n",
      "43.50%\n",
      "44.00%\n",
      "44.50%\n",
      "45.00%\n",
      "45.50%\n",
      "46.00%\n",
      "46.50%\n",
      "47.00%\n",
      "47.50%\n",
      "48.00%\n",
      "48.50%\n",
      "49.00%\n",
      "49.50%\n",
      "50.00%\n",
      "50.50%\n",
      "51.00%\n",
      "51.50%\n",
      "52.00%\n",
      "52.50%\n",
      "53.00%\n",
      "53.50%\n",
      "54.00%\n",
      "54.50%\n",
      "55.00%\n",
      "55.50%\n",
      "56.00%\n",
      "56.50%\n",
      "57.00%\n",
      "57.50%\n",
      "58.00%\n",
      "58.50%"
     ]
    }
   ],
   "source": [
    "def evaluate_project(project):\n",
    "    last_observation = 999\n",
    "    goal = project['project'][1]\n",
    "    correct = []\n",
    "    for p in np.linspace(0.01, 0.99, 20):\n",
    "        # Set the number of observed data\n",
    "        observe = int(floor(num_observations * p))\n",
    "        # Set the new observation in the model without modifying it\n",
    "        X_observation = np.ndarray(shape=(observe, 1), buffer=np.arange(observe), dtype=int) \n",
    "        Y_observation = np.ndarray(shape=(observe, 1), buffer=np.array([status[1] for status in new_project['status'][:observe]]), dtype=float) \n",
    "        m.set_XY(X=X_observation, Y=Y_observation)\n",
    "        # Predict the end of the project\n",
    "        mean, var = m.predict(np.ndarray((1,1), buffer=np.array(last_observation), dtype=int))\n",
    "        predicted_pledged = mean[0][0]\n",
    "        predicted_success = predicted_pledged > 1\n",
    "        predicted_var = var[0][0]\n",
    "        actual_pledged = new_project['status'][last_observation][1]\n",
    "        actual_success = actual_pledged > 1\n",
    "        correct.append(predicted_pledged == actual_success)\n",
    "    return correct\n",
    "\n",
    "result = []\n",
    "total = len(projects_test)\n",
    "print total\n",
    "for i, project in enumerate(projects_test):\n",
    "    print \"%.2f%%\" % (i / float(total) * 100)\n",
    "    result.append(evaluate_project(project))"
   ]
  },
  {
   "cell_type": "code",
   "execution_count": 132,
   "metadata": {
    "collapsed": false
   },
   "outputs": [
    {
     "data": {
      "text/plain": [
       "array([ 0.        ,  0.05210526,  0.10421053,  0.15631579,  0.20842105,\n",
       "        0.26052632,  0.31263158,  0.36473684,  0.41684211,  0.46894737,\n",
       "        0.52105263,  0.57315789,  0.62526316,  0.67736842,  0.72947368,\n",
       "        0.78157895,  0.83368421,  0.88578947,  0.93789474,  0.99      ])"
      ]
     },
     "execution_count": 132,
     "metadata": {},
     "output_type": "execute_result"
    }
   ],
   "source": [
    "np.linspace(0, 0.99, 20)"
   ]
  }
 ],
 "metadata": {
  "kernelspec": {
   "display_name": "Python 2",
   "language": "python",
   "name": "python2"
  },
  "language_info": {
   "codemirror_mode": {
    "name": "ipython",
    "version": 2
   },
   "file_extension": ".py",
   "mimetype": "text/x-python",
   "name": "python",
   "nbconvert_exporter": "python",
   "pygments_lexer": "ipython2",
   "version": "2.7.10"
  }
 },
 "nbformat": 4,
 "nbformat_minor": 0
}
