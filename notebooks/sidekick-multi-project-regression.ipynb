{
 "cells": [
  {
   "cell_type": "markdown",
   "metadata": {},
   "source": [
    "# Sidekick - Multi-Pojects Predictions\n",
    "Scratch work to perform predictions for a project by considering multiple projects."
   ]
  },
  {
   "cell_type": "code",
   "execution_count": 1,
   "metadata": {
    "collapsed": false
   },
   "outputs": [
    {
     "name": "stdout",
     "output_type": "stream",
     "text": [
      "warning in stationary: failed to import cython module: falling back to numpy\n"
     ]
    }
   ],
   "source": [
    "%matplotlib inline\n",
    "import os\n",
    "import sys\n",
    "sys.path.insert(0, os.path.abspath('../utils/')) # Add sibling to Python path\n",
    "sys.path.insert(0, os.path.abspath('../src/')) # Add sibling to Python path\n",
    "sys.stdout.flush() # Print output on the fly in Notebook\n",
    "import matplotlib\n",
    "matplotlib.rcParams['figure.figsize'] = (18,8)\n",
    "matplotlib.rcParams['font.size'] = 16\n",
    "matplotlib.rcParams['legend.fontsize'] = 16\n",
    "from IPython.display import display\n",
    "import numpy as np\n",
    "import GPy\n",
    "import cPickle as cp\n",
    "import matplotlib.pyplot as plt\n",
    "from math import floor\n",
    "from dataset import Sidekick\n",
    "from misc_utils import progress\n",
    "\n",
    "DATA_DIR = \"../data/kickstarter-etter-cosn2013\""
   ]
  },
  {
   "cell_type": "markdown",
   "metadata": {},
   "source": [
    "## Load data"
   ]
  },
  {
   "cell_type": "code",
   "execution_count": 2,
   "metadata": {
    "collapsed": false
   },
   "outputs": [
    {
     "name": "stdout",
     "output_type": "stream",
     "text": [
      "Loading projects...\n",
      "Loading statuses...\n",
      "Converting to project instances...\n",
      "Data loaded.\n"
     ]
    }
   ],
   "source": [
    "sk = Sidekick()\n",
    "sk.load()"
   ]
  },
  {
   "cell_type": "markdown",
   "metadata": {},
   "source": [
    "## Prepare data\n",
    "Keep `T`% of the projects for training and `(100-T)`% for testing."
   ]
  },
  {
   "cell_type": "code",
   "execution_count": 12,
   "metadata": {
    "collapsed": false
   },
   "outputs": [
    {
     "name": "stdout",
     "output_type": "stream",
     "text": [
      "(1000, 1) (1000, 100)\n"
     ]
    }
   ],
   "source": [
    "projects = sk.data[:10]\n",
    "num_observations = 1000\n",
    "T = 0.8\n",
    "\n",
    "threshold = int(floor(T * len(projects)))\n",
    "projects_train = projects[:threshold]\n",
    "projects_test = projects[threshold:]\n",
    "X_train = np.ndarray(shape=(num_observations, 1), buffer=np.arange(num_observations), dtype=int)\n",
    "Y_train = np.array([project.money for project in projects]).T\n",
    "print X_train.shape, Y_train.shape"
   ]
  },
  {
   "cell_type": "markdown",
   "metadata": {
    "collapsed": false
   },
   "source": [
    "## Train model\n",
    "Train a GP with a given kernel."
   ]
  },
  {
   "cell_type": "code",
   "execution_count": 13,
   "metadata": {
    "collapsed": false
   },
   "outputs": [
    {
     "data": {
      "text/html": [
       "<style type=\"text/css\">\n",
       ".pd{\n",
       "    font-family: \"Courier New\", Courier, monospace !important;\n",
       "    width: 100%;\n",
       "    padding: 3px;\n",
       "}\n",
       "</style>\n",
       "\n",
       "<p class=pd>\n",
       "<b>Model</b>: GP regression<br>\n",
       "<b>Log-likelihood</b>: 291282.646995<br>\n",
       "<b>Number of Parameters</b>: 3<br>\n",
       "<b>Number of Optimization Parameters</b>: 3<br>\n",
       "<b>Updates</b>: True<br>\n",
       "</p>\n",
       "<style type=\"text/css\">\n",
       ".tg  {font-family:\"Courier New\", Courier, monospace !important;padding:2px 3px;word-break:normal;border-collapse:collapse;border-spacing:0;border-color:#DCDCDC;margin:0px auto;width:100%;}\n",
       ".tg td{font-family:\"Courier New\", Courier, monospace !important;font-weight:bold;color:#444;background-color:#F7FDFA;border-style:solid;border-width:1px;overflow:hidden;word-break:normal;border-color:#DCDCDC;}\n",
       ".tg th{font-family:\"Courier New\", Courier, monospace !important;font-weight:normal;color:#fff;background-color:#26ADE4;border-style:solid;border-width:1px;overflow:hidden;word-break:normal;border-color:#DCDCDC;}\n",
       ".tg .tg-left{font-family:\"Courier New\", Courier, monospace !important;font-weight:normal;text-align:left;}\n",
       ".tg .tg-right{font-family:\"Courier New\", Courier, monospace !important;font-weight:normal;text-align:right;}\n",
       "</style>\n",
       "<table class=\"tg\">\n",
       "<tr>\n",
       "  <th><b>GP_regression.</b></th>\n",
       "  <th><b>Value</b></th>\n",
       "  <th><b>Constraint</b></th>\n",
       "  <th><b>Prior</b></th>\n",
       "  <th><b>Tied to</b></th>\n",
       "</tr>\n",
       "<tr><td class=tg-left>rbf.variance           </td><td class=tg-right>   0.901305989375</td><td class=tg-left>   +ve    </td><td class=tg-left>     </td><td class=tg-left>       </td></tr>\n",
       "<tr><td class=tg-left>rbf.lengthscale        </td><td class=tg-right>     12.592851517</td><td class=tg-left>   +ve    </td><td class=tg-left>     </td><td class=tg-left>       </td></tr>\n",
       "<tr><td class=tg-left>Gaussian_noise.variance</td><td class=tg-right>5.38723481161e-05</td><td class=tg-left>   +ve    </td><td class=tg-left>     </td><td class=tg-left>       </td></tr>\n",
       "</table>"
      ],
      "text/plain": [
       "<GPy.models.gp_regression.GPRegression at 0x11105e290>"
      ]
     },
     "metadata": {},
     "output_type": "display_data"
    }
   ],
   "source": [
    "kernel = GPy.kern.RBF(input_dim=1)\n",
    "m = GPy.models.GPRegression(X_train, Y_train, kernel)\n",
    "#m.optimize_restarts(num_restarts=10)\n",
    "m.optimize()\n",
    "display(m)"
   ]
  },
  {
   "cell_type": "code",
   "execution_count": 14,
   "metadata": {
    "collapsed": false
   },
   "outputs": [
    {
     "data": {
      "text/plain": [
       "{'dataplot': {'dataplot': [<matplotlib.lines.Line2D at 0x137f36510>]},\n",
       " 'gpplot': [[<matplotlib.lines.Line2D at 0x137b76fd0>],\n",
       "  [<matplotlib.patches.Polygon at 0x137d557d0>],\n",
       "  [<matplotlib.lines.Line2D at 0x137d55d90>],\n",
       "  [<matplotlib.lines.Line2D at 0x137d63310>]]}"
      ]
     },
     "execution_count": 14,
     "metadata": {},
     "output_type": "execute_result"
    },
    {
     "data": {
      "image/png": "[encoded data removed]",
      "text/plain": [
       "<matplotlib.figure.Figure at 0x111dbce50>"
      ]
     },
     "metadata": {},
     "output_type": "display_data"
    }
   ],
   "source": [
    "m.plot()"
   ]
  },
  {
   "cell_type": "markdown",
   "metadata": {},
   "source": [
    "## Test unseen project\n",
    "We observe 80% of the project pledged money and we predict then the last point, that is the total amount of money pledged at the end of the project. If it is greater than 1, then the project has been funded."
   ]
  },
  {
   "cell_type": "code",
   "execution_count": 15,
   "metadata": {
    "collapsed": false
   },
   "outputs": [
    {
     "name": "stdout",
     "output_type": "stream",
     "text": [
      "Goal: 5000\n",
      "Predicted success: False (0.00±2.10)\n",
      "Actual success: True (1.03)\n"
     ]
    }
   ],
   "source": [
    "new_project = projects_test[6]\n",
    "proportion = 0.8\n",
    "last_observation = 999\n",
    "\n",
    "goal = new_project['project'][1]\n",
    "observe = int(floor(num_observations * proportion))\n",
    "\n",
    "X_observation = np.ndarray(shape=(observe, 1), buffer=np.arange(observe), dtype=int) \n",
    "Y_observation = np.ndarray(shape=(observe, 1), buffer=np.array([status[1] for status in new_project['status'][:observe]]), dtype=float) \n",
    "m.set_XY(X=X_observation, Y=Y_observation)\n",
    "mean, var = m.predict(np.ndarray((1,1), buffer=np.array(last_observation), dtype=int))\n",
    "predicted_pledged = mean[0][0]\n",
    "predicted_var = var[0][0]\n",
    "actual_pledged = new_project['status'][last_observation][1]\n",
    "print \"Goal: %s\" % goal\n",
    "print \"Predicted success: %s (%.2f±%.2f)\" % (str(predicted_pledged > 1), predicted_pledged, np.sqrt(predicted_var))\n",
    "print \"Actual success: %s (%.2f)\" % (str(actual_pledged > 1), actual_pledged)"
   ]
  },
  {
   "cell_type": "markdown",
   "metadata": {},
   "source": [
    "## Evaluation\n",
    "Run an evaluation on the full test set."
   ]
  },
  {
   "cell_type": "code",
   "execution_count": 21,
   "metadata": {
    "collapsed": false
   },
   "outputs": [
    {
     "name": "stdout",
     "output_type": "stream",
     "text": [
      "20\n",
      " 0.00%\b\b\b\b\b\b 5.26% (50s remaining)\b\b\b\b\b\b\b\b\b\b\b\b\b\b\b\b\b\b\b\b\b\b10.53% (47s remaining)\b\b\b\b\b\b\b\b\b\b\b\b\b\b\b\b\b\b\b\b\b\b15.79% (44s remaining)\b\b\b\b\b\b\b\b\b\b\b\b\b\b\b\b\b\b\b\b\b\b21.05% (41s remaining)\b\b\b\b\b\b\b\b\b\b\b\b\b\b\b\b\b\b\b\b\b\b26.32% (38s remaining)\b\b\b\b\b\b\b\b\b\b\b\b\b\b\b\b\b\b\b\b\b\b31.58% (36s remaining)\b\b\b\b\b\b\b\b\b\b\b\b\b\b\b\b\b\b\b\b\b\b36.84% (33s remaining)\b\b\b\b\b\b\b\b\b\b\b\b\b\b\b\b\b\b\b\b\b\b42.11% (31s remaining)\b\b\b\b\b\b\b\b\b\b\b\b\b\b\b\b\b\b\b\b\b\b47.37% (28s remaining)\b\b\b\b\b\b\b\b\b\b\b\b\b\b\b\b\b\b\b\b\b\b52.63% (26s remaining)\b\b\b\b\b\b\b\b\b\b\b\b\b\b\b\b\b\b\b\b\b\b57.89% (23s remaining)\b\b\b\b\b\b\b\b\b\b\b\b\b\b\b\b\b\b\b\b\b\b63.16% (20s remaining)\b\b\b\b\b\b\b\b\b\b\b\b\b\b\b\b\b\b\b\b\b\b68.42% (18s remaining)\b\b\b\b\b\b\b\b\b\b\b\b\b\b\b\b\b\b\b\b\b\b73.68% (15s remaining)\b\b\b\b\b\b\b\b\b\b\b\b\b\b\b\b\b\b\b\b\b\b78.95% (13s remaining)\b\b\b\b\b\b\b\b\b\b\b\b\b\b\b\b\b\b\b\b\b\b84.21% (10s remaining)\b\b\b\b\b\b\b\b\b\b\b\b\b\b\b\b\b\b\b\b\b\b89.47% (7s remaining) \b\b\b\b\b\b\b\b\b\b\b\b\b\b\b\b\b\b\b\b\b\b94.74% (5s remaining) \b\b\b\b\b\b\b\b\b\b\b\b\b\b\b\b\b\b\b\b\b\b100.00% (2s remaining)"
     ]
    }
   ],
   "source": [
    "def evaluate_project(project):\n",
    "    last_observation = 999\n",
    "    goal = project['project'][1]\n",
    "    correct = []\n",
    "    for p in np.linspace(0.01, 0.99, 20):\n",
    "        # Set the number of observed data\n",
    "        observe = int(floor(num_observations * p))\n",
    "        # Set the new observation in the model without modifying it\n",
    "        X_observation = np.ndarray(shape=(observe, 1), buffer=np.arange(observe), dtype=int) \n",
    "        Y_observation = np.ndarray(shape=(observe, 1), buffer=np.array([status[1] for status in new_project['status'][:observe]]), dtype=float) \n",
    "        m.set_XY(X=X_observation, Y=Y_observation)\n",
    "        # Predict the end of the project\n",
    "        mean, var = m.predict(np.ndarray((1,1), buffer=np.array(last_observation), dtype=int))\n",
    "        predicted_pledged = mean[0][0]\n",
    "        predicted_success = predicted_pledged > 1\n",
    "        predicted_var = var[0][0]\n",
    "        actual_pledged = new_project['status'][last_observation][1]\n",
    "        actual_success = actual_pledged > 1\n",
    "        correct.append(predicted_pledged == actual_success)\n",
    "    return correct\n",
    "\n",
    "result = []\n",
    "total = len(projects_test)\n",
    "for i, project in enumerate(projects_test):\n",
    "    progress(i, total)\n",
    "    result.append(evaluate_project(project))"
   ]
  },
  {
   "cell_type": "code",
   "execution_count": 27,
   "metadata": {
    "collapsed": false
   },
   "outputs": [
    {
     "name": "stdout",
     "output_type": "stream",
     "text": [
      "[False, False, False, False, False, False, False, False, False, False, False, False, False, False, False, False, False, False, False, False]\n"
     ]
    }
   ],
   "source": []
  },
  {
   "cell_type": "markdown",
   "metadata": {},
   "source": [
    "## Plot result\n",
    "Plot the accuracy versus relative time together with error bars."
   ]
  },
  {
   "cell_type": "code",
   "execution_count": 28,
   "metadata": {
    "collapsed": false
   },
   "outputs": [
    {
     "data": {
      "image/png": "[encoded data removed]",
      "text/plain": [
       "<matplotlib.figure.Figure at 0x332c9470>"
      ]
     },
     "metadata": {},
     "output_type": "display_data"
    }
   ],
   "source": [
    "r = np.array(result)\n",
    "plt.errorbar(np.linspace(0.01, 0.99, 20), 100 * np.mean(r, axis=0), 100 * np.std(r, axis=0))\n",
    "plt.title(\"GP predictor\")\n",
    "plt.ylabel(\"Prediction accuracy (%)\")\n",
    "plt.xlabel(\"Relative time\")\n",
    "plt.show()"
   ]
  }
 ],
 "metadata": {
  "kernelspec": {
   "display_name": "Python 2",
   "language": "python",
   "name": "python2"
  },
  "language_info": {
   "codemirror_mode": {
    "name": "ipython",
    "version": 2
   },
   "file_extension": ".py",
   "mimetype": "text/x-python",
   "name": "python",
   "nbconvert_exporter": "python",
   "pygments_lexer": "ipython2",
   "version": "2.7.10"
  }
 },
 "nbformat": 4,
 "nbformat_minor": 0
}
