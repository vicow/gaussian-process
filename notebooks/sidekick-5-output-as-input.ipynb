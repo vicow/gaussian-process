{
 "cells": [
  {
   "cell_type": "markdown",
   "metadata": {},
   "source": [
    "# Sidekick - Output as input\n",
    "\n",
    "#### Model\n",
    "We change completely the approach. Instead of using the time as input and trying to predict the output at new time indices, we now consider the pledged money at each time step as input ($\\mathbf{y}$ becomes $\\mathbf{x}$) and the last time index as the output. That is, we have now a dataset $\\mathcal{D} = \\left\\{ (\\mathbf{x}^{(p)}, y^{(p)}) \\mid p = 1, ..., P \\right\\}$ with $\\mathbf{x}^{(p)} = \\mathbf{y}_{1:t}^{(p)}$ and $\\mathbf{y}^{(p)} = y_T^{(p)}$. We then have $X = \\left[\\mathbf{x}^{(p)}\\right]_{p=1}^P$ a $(P \\times t)$ matrix and $\\mathbf{y} = \\left[y_T^{(p)}\\right]_{p=1}^P$ a $(P \\times 1)$ target vector. The difference with the second approach is that now the features for each project are the amount of pledged money at different time step and not the same (shared) input values ($1,...,T$).\n",
    "\n",
    "Our goal now is to predict, for a new project $p$, the final amount of pledged money $f_*^{(p)} = y_T^{(p)} = f(\\mathbf{x}^{(p)}) = f(\\mathbf{y}_{1:t}^{(p)})$ for the money received up to time $t$ $X_*^{(p)} = \\mathbf{y}_{1:t}^{(p)}$ after observing the total pledged money for all projects $\\mathbf{y} = \\left[y_T^{(p)}\\right]_{p=1}^P$ and the money they received up to time $t$, $X = \\left[ \\mathbf{y}_{1:t}^{(p)} \\right]_{p=1}^P$. In the GP framework, we can compute this prediction using\n",
    "\n",
    "$$f_* \\mid X, \\mathbf{y}, X_* \\sim \\mathcal{N}\\left(\\overline{f}_*, \\text{ cov}(f_*)  \\right) \\\\\n",
    "\\overline{f}_* = K(X_*, X) \\left[ K(X, X) + \\sigma_n^2I \\right]^{-1}\\mathbf{y} \\\\\n",
    "\\text{cov}(f_*) = K(X_*, X_*) - K(X_*, X)\\left[ K(X, X) + \\sigma_n^2I \\right]^{-1}K(X, X_*).\n",
    "$$ \n",
    "\n",
    "As seen in [this plot](http://localhost:8888/notebooks/notebooks/sidekick-1-eda.ipynb#Output-as-input---Global), it seems impossible to do a regression considering all the projects together. However, the two modes corresponding to the successful and failed projects are clearly distinguisable. Therefore we try to perform the regression on each of the two classes separately, using an EM algorithm **[EM DETAILS GO HERE]**\n",
    "\n",
    "#### Results\n",
    "Mixture of (GP) models can probably be used."
   ]
  },
  {
   "cell_type": "code",
   "execution_count": 42,
   "metadata": {
    "collapsed": false
   },
   "outputs": [],
   "source": [
    "%matplotlib inline\n",
    "import os\n",
    "import sys\n",
    "sys.path.insert(0, os.path.abspath('../utils/')) # Add sibling to Python path\n",
    "sys.path.insert(0, os.path.abspath('../src/')) # Add sibling to Python path\n",
    "sys.stdout.flush() # Print output on the fly in Notebook\n",
    "import matplotlib\n",
    "matplotlib.rcParams['figure.figsize'] = (18,8)\n",
    "matplotlib.rcParams['font.size'] = 16\n",
    "matplotlib.rcParams['legend.fontsize'] = 16\n",
    "from IPython.display import display\n",
    "import numpy as np\n",
    "import scipy as sp\n",
    "import GPy\n",
    "import cPickle as cp\n",
    "import matplotlib.pyplot as plt\n",
    "from math import floor\n",
    "from dataset import Sidekick\n",
    "from misc_utils import progress\n",
    "\n",
    "DATA_DIR = \"../data/sidekick\"\n",
    "\n",
    "def predict_total_pledged(project, t, samples, m_s_test, m_f_test, pi, X_s, y_s, X_f, y_f):\n",
    "    \"\"\"Predict the total pledged money for a given project using a mixture of two GPs:\n",
    "    \n",
    "        p(Y_T | y_{1:t}, theta) = pi * p(y_T | y{1:t}, theta_s) + (1-pi) * p(y_T | y{1:t}, theta_f)\n",
    "        \n",
    "        where pi is the proportion of successful projects. Returns also the classification.\n",
    "    \"\"\"\n",
    "    money = np.expand_dims(project.money[samples], axis=0)\n",
    "    X_observed = np.ndarray(shape=(1, t), buffer=money, dtype=float)\n",
    "    \n",
    "    l_s = m_s_test.rbf.lengthscale\n",
    "    sigma_f_s = m_s_test.rbf.variance\n",
    "    sigma_n_s = m_s_test.Gaussian_noise.variance\n",
    "    mean_s, var_s, likelihood_s = gaussian_process_regression(X_s, y_s, X_observed, k, \n",
    "                                                              l=l_s, \n",
    "                                                              sigma_n=sigma_n_s, \n",
    "                                                              sigma_f=sigma_f_s)\n",
    "    l_f = m_f_test.rbf.lengthscale\n",
    "    sigma_f_f = m_f_test.rbf.variance\n",
    "    sigma_n_f = m_f_test.Gaussian_noise.variance\n",
    "    mean_f, var_f, likelihood_f = gaussian_process_regression(X_f, y_f, X_observed, k, \n",
    "                                                              l=l_f, \n",
    "                                                              sigma_n=sigma_n_f, \n",
    "                                                              sigma_f=sigma_f_f)\n",
    "    print mean_s, var_s, likelihood_s\n",
    "    print mean_f, var_f, likelihood_f\n",
    "    \n",
    "    return likelihood_s > likelihood_f\n",
    "\n",
    "def subsample(t0, t1, n_samples):\n",
    "    t = t1 - t0\n",
    "    if n_samples >= t:\n",
    "        return range(t0, t1)\n",
    "    samples = range(t0, t1, int(np.ceil(t / float(n_samples))))\n",
    "    return samples\n",
    "\n",
    "\n",
    "def k(xp, xq , l, sigma_f):\n",
    "    \"\"\"Covariance functions with squared exponential of length-scale l and signal noise sigma_f.\"\"\"\n",
    "    return sigma_f * np.exp(-0.5 * np.linalg.norm(xp - xq) / float(l**2))\n",
    "    #return sigma_f * xp * xq\n",
    "\n",
    "\n",
    "def K(x1, x2, l=1.0, sigma_f=1.0):\n",
    "    \"\"\"Compute the covariance matrix from the observations x.\"\"\"\n",
    "    cov_matrix = np.zeros((len(x1), len(x2)))\n",
    "    for i, p in enumerate(x1):\n",
    "        for j, q in enumerate(x2):\n",
    "            cov_matrix[i, j] = k(p, q, l, sigma_f)\n",
    "    return cov_matrix\n",
    "\n",
    "\n",
    "def gaussian_process_regression(X, y, x_test, k, l=1.0, sigma_n=0.0, sigma_f=1.0):\n",
    "    \"\"\"\n",
    "    Computes a regression using Gaussian Process using observations x and y = f(x) and a covariance function k.\n",
    "    \n",
    "    :param X        Inputs (NxD)\n",
    "    :param y        Values at indices x (= f(x))\n",
    "    :param x_test   Indices to get predicted values\n",
    "    :param k        Covariance function\n",
    "    :param sigma_n  Observations noise\n",
    "    :return:        Mean m, variance var and log marginal likelihood lml\n",
    "    \"\"\"\n",
    "    n = len(y)\n",
    "    n_test = len(x_test)\n",
    "    # Cholesky decompostion\n",
    "    L = np.linalg.cholesky(K(X, X, l, sigma_f) + sigma_n * np.eye(n))\n",
    "    a = sp.linalg.solve_triangular(L.T, sp.linalg.solve_triangular(L, y, lower=True))\n",
    "    k_star = K(X, x_test, l, sigma_f)\n",
    "    # Predictive mean\n",
    "    m = np.dot(k_star.T, a)\n",
    "    # Predictive variance\n",
    "    v = sp.linalg.solve_triangular(L, k_star, lower=True)\n",
    "    var = K(x_test, x_test, l, sigma_f) - np.dot(np.transpose(v), v)\n",
    "    # Log maginal likelihood (last term is log2π / 2)\n",
    "    lml = -0.5 * np.sum(y * a) - np.sum(np.log(np.diag(L))) - n * 0.918938533205\n",
    "    return m, var + sigma_n * np.eye(n_test), lml"
   ]
  },
  {
   "cell_type": "markdown",
   "metadata": {},
   "source": [
    "## Load data and separate successful from failed projects"
   ]
  },
  {
   "cell_type": "code",
   "execution_count": 2,
   "metadata": {
    "collapsed": false
   },
   "outputs": [
    {
     "name": "stdout",
     "output_type": "stream",
     "text": [
      "Loading projects...\n",
      "Loading statuses...\n",
      "Converting to project instances...\n",
      "Data loaded.\n"
     ]
    }
   ],
   "source": [
    "sk = Sidekick()\n",
    "sk.load()\n",
    "# projects_train, projects_test = sk.split()\n",
    "# successful = sk.successful()\n",
    "# failed = sk.failed()"
   ]
  },
  {
   "cell_type": "markdown",
   "metadata": {},
   "source": [
    "### Parameters"
   ]
  },
  {
   "cell_type": "code",
   "execution_count": 3,
   "metadata": {
    "collapsed": false
   },
   "outputs": [
    {
     "name": "stdout",
     "output_type": "stream",
     "text": [
      "Successful: 5 (train)\n",
      "Failed: 3 (train)\n",
      "p(successful) = 0.6250 (prior)\n"
     ]
    }
   ],
   "source": [
    "N = 10\n",
    "seed = 2\n",
    "t0 = 1\n",
    "t1 = 10\n",
    "n_samples = 3\n",
    "T = 999\n",
    "ARD = False\n",
    "outliers_threshold = 2\n",
    "\n",
    "N_train = int(floor(0.8*N))\n",
    "N_test = N - N_train\n",
    "samples = subsample(t0, t1, n_samples)\n",
    "t = len(samples)\n",
    "N_projects = sk.choose_n_projects(n=N, seed=seed)\n",
    "projects_train = N_projects[:N_train]\n",
    "projects_test = N_projects[N_train:]\n",
    "successful = [p for p in projects_train if p.successful and p.money[T] < outliers_threshold]\n",
    "failed = [p for p in projects_train if not p.successful]\n",
    "pi = len(successful) / float(N_train)\n",
    "\n",
    "print \"Successful: %s (train)\" % len(successful)\n",
    "print \"Failed: %s (train)\" % len(failed)\n",
    "print \"p(successful) = %0.4f (prior)\" % pi"
   ]
  },
  {
   "cell_type": "markdown",
   "metadata": {},
   "source": [
    "## Train GP-RBF on successful projects"
   ]
  },
  {
   "cell_type": "code",
   "execution_count": 4,
   "metadata": {
    "collapsed": false
   },
   "outputs": [
    {
     "name": "stdout",
     "output_type": "stream",
     "text": [
      "(5, 3)\n",
      "(5, 1)\n"
     ]
    },
    {
     "data": {
      "text/html": [
       "<style type=\"text/css\">\n",
       ".pd{\n",
       "    font-family: \"Courier New\", Courier, monospace !important;\n",
       "    width: 100%;\n",
       "    padding: 3px;\n",
       "}\n",
       "</style>\n",
       "\n",
       "<p class=pd>\n",
       "<b>Model</b>: GP regression<br>\n",
       "<b>Log-likelihood</b>: -2.42291503131<br>\n",
       "<b>Number of Parameters</b>: 3<br>\n",
       "<b>Number of Optimization Parameters</b>: 3<br>\n",
       "<b>Updates</b>: True<br>\n",
       "</p>\n",
       "<style type=\"text/css\">\n",
       ".tg  {font-family:\"Courier New\", Courier, monospace !important;padding:2px 3px;word-break:normal;border-collapse:collapse;border-spacing:0;border-color:#DCDCDC;margin:0px auto;width:100%;}\n",
       ".tg td{font-family:\"Courier New\", Courier, monospace !important;font-weight:bold;color:#444;background-color:#F7FDFA;border-style:solid;border-width:1px;overflow:hidden;word-break:normal;border-color:#DCDCDC;}\n",
       ".tg th{font-family:\"Courier New\", Courier, monospace !important;font-weight:normal;color:#fff;background-color:#26ADE4;border-style:solid;border-width:1px;overflow:hidden;word-break:normal;border-color:#DCDCDC;}\n",
       ".tg .tg-left{font-family:\"Courier New\", Courier, monospace !important;font-weight:normal;text-align:left;}\n",
       ".tg .tg-right{font-family:\"Courier New\", Courier, monospace !important;font-weight:normal;text-align:right;}\n",
       "</style>\n",
       "<table class=\"tg\">\n",
       "<tr>\n",
       "  <th><b>GP_regression.</b></th>\n",
       "  <th><b>Value</b></th>\n",
       "  <th><b>Constraint</b></th>\n",
       "  <th><b>Prior</b></th>\n",
       "  <th><b>Tied to</b></th>\n",
       "</tr>\n",
       "<tr><td class=tg-left>rbf.variance           </td><td class=tg-right>  1.44003787146</td><td class=tg-left>   +ve    </td><td class=tg-left>     </td><td class=tg-left>       </td></tr>\n",
       "<tr><td class=tg-left>rbf.lengthscale        </td><td class=tg-right>   324.56708718</td><td class=tg-left>   +ve    </td><td class=tg-left>     </td><td class=tg-left>       </td></tr>\n",
       "<tr><td class=tg-left>Gaussian_noise.variance</td><td class=tg-right>0.0589272731593</td><td class=tg-left>   +ve    </td><td class=tg-left>     </td><td class=tg-left>       </td></tr>\n",
       "</table>"
      ],
      "text/plain": [
       "<GPy.models.gp_regression.GPRegression at 0x10ab66290>"
      ]
     },
     "metadata": {},
     "output_type": "display_data"
    }
   ],
   "source": [
    "X_train_s = np.ndarray(shape=(len(successful), t), buffer=np.array([p.money[samples] for p in successful]), dtype=float) \n",
    "Y_train_s = np.expand_dims(np.array([p.money[T] for p in successful]), axis=1)\n",
    "print X_train_s.shape\n",
    "print Y_train_s.shape\n",
    "\n",
    "kernel = GPy.kern.RBF(input_dim=t, ARD=ARD)\n",
    "m_s = GPy.models.GPRegression(X_train_s, Y_train_s, kernel)\n",
    "m_s.optimize()\n",
    "#m_s.rbf.lengthscale = 0.01\n",
    "display(m_s)"
   ]
  },
  {
   "cell_type": "code",
   "execution_count": null,
   "metadata": {
    "collapsed": false
   },
   "outputs": [],
   "source": [
    "def view_dimension(d, total):\n",
    "    inputs = range(total)\n",
    "    inputs.pop(d)\n",
    "    fixed_inputs = [(i, 0) for i in inputs]\n",
    "    return fixed_inputs\n",
    "\n",
    "print m_s.rbf.variance\n",
    "print m_s.rbf.lengthscale\n",
    "f = view_dimension(1, t)\n",
    "fig = m_s.plot(fixed_inputs=f)"
   ]
  },
  {
   "cell_type": "markdown",
   "metadata": {},
   "source": [
    "## Train GP-RBF on failed projects"
   ]
  },
  {
   "cell_type": "code",
   "execution_count": 45,
   "metadata": {
    "collapsed": false
   },
   "outputs": [
    {
     "name": "stdout",
     "output_type": "stream",
     "text": [
      "(3, 3)\n",
      "(3, 1)\n"
     ]
    },
    {
     "data": {
      "text/html": [
       "<style type=\"text/css\">\n",
       ".pd{\n",
       "    font-family: \"Courier New\", Courier, monospace !important;\n",
       "    width: 100%;\n",
       "    padding: 3px;\n",
       "}\n",
       "</style>\n",
       "\n",
       "<p class=pd>\n",
       "<b>Model</b>: GP regression<br>\n",
       "<b>Log-likelihood</b>: 0.067348099785<br>\n",
       "<b>Number of Parameters</b>: 3<br>\n",
       "<b>Number of Optimization Parameters</b>: 3<br>\n",
       "<b>Updates</b>: True<br>\n",
       "</p>\n",
       "<style type=\"text/css\">\n",
       ".tg  {font-family:\"Courier New\", Courier, monospace !important;padding:2px 3px;word-break:normal;border-collapse:collapse;border-spacing:0;border-color:#DCDCDC;margin:0px auto;width:100%;}\n",
       ".tg td{font-family:\"Courier New\", Courier, monospace !important;font-weight:bold;color:#444;background-color:#F7FDFA;border-style:solid;border-width:1px;overflow:hidden;word-break:normal;border-color:#DCDCDC;}\n",
       ".tg th{font-family:\"Courier New\", Courier, monospace !important;font-weight:normal;color:#fff;background-color:#26ADE4;border-style:solid;border-width:1px;overflow:hidden;word-break:normal;border-color:#DCDCDC;}\n",
       ".tg .tg-left{font-family:\"Courier New\", Courier, monospace !important;font-weight:normal;text-align:left;}\n",
       ".tg .tg-right{font-family:\"Courier New\", Courier, monospace !important;font-weight:normal;text-align:right;}\n",
       "</style>\n",
       "<table class=\"tg\">\n",
       "<tr>\n",
       "  <th><b>GP_regression.</b></th>\n",
       "  <th><b>Value</b></th>\n",
       "  <th><b>Constraint</b></th>\n",
       "  <th><b>Prior</b></th>\n",
       "  <th><b>Tied to</b></th>\n",
       "</tr>\n",
       "<tr><td class=tg-left>rbf.variance           </td><td class=tg-right>1.31690302686e-07</td><td class=tg-left>   +ve    </td><td class=tg-left>     </td><td class=tg-left>       </td></tr>\n",
       "<tr><td class=tg-left>rbf.lengthscale        </td><td class=tg-right>   0.743957021883</td><td class=tg-left>   +ve    </td><td class=tg-left>     </td><td class=tg-left>       </td></tr>\n",
       "<tr><td class=tg-left>Gaussian_noise.variance</td><td class=tg-right>  0.0559790028651</td><td class=tg-left>   +ve    </td><td class=tg-left>     </td><td class=tg-left>       </td></tr>\n",
       "</table>"
      ],
      "text/plain": [
       "<GPy.models.gp_regression.GPRegression at 0x10b709a50>"
      ]
     },
     "metadata": {},
     "output_type": "display_data"
    }
   ],
   "source": [
    "X_train_f = np.ndarray(shape=(len(failed), t), buffer=np.array([p.money[samples] for p in failed]), dtype=float) \n",
    "Y_train_f = np.expand_dims(np.array([p.money[T] for p in failed]), axis=1)\n",
    "print X_train_f.shape\n",
    "print Y_train_f.shape\n",
    "\n",
    "kernel = GPy.kern.RBF(input_dim=t, ARD=ARD)\n",
    "m_f = GPy.models.GPRegression(X_train_f, Y_train_f, kernel)\n",
    "m_f.optimize()\n",
    "display(m_f)"
   ]
  },
  {
   "cell_type": "code",
   "execution_count": null,
   "metadata": {
    "collapsed": false
   },
   "outputs": [],
   "source": [
    "print m_f.rbf.variance\n",
    "print m_f.rbf.lengthscale\n",
    "f = view_dimension(2, t)\n",
    "fig = m_f.plot(fixed_inputs=f)"
   ]
  },
  {
   "cell_type": "markdown",
   "metadata": {},
   "source": [
    "## Test experiment"
   ]
  },
  {
   "cell_type": "code",
   "execution_count": 47,
   "metadata": {
    "collapsed": false
   },
   "outputs": [
    {
     "name": "stdout",
     "output_type": "stream",
     "text": [
      "[[ 1.1951169]] [[ 0.07062026]] -2.42292158812\n",
      "[[  7.68915163e-07]] [[ 0.05597913]] 0.0673480805841\n",
      "Classified as failed, wrong...\n",
      "Actual total pledged money: 2.2558\n",
      "Goal: $1200\n",
      "Pledged: $2707\n"
     ]
    },
    {
     "data": {
      "image/png": "[encoded data removed]",
      "text/plain": [
       "<matplotlib.figure.Figure at 0x10bb2d850>"
      ]
     },
     "metadata": {},
     "output_type": "display_data"
    }
   ],
   "source": [
    "m_s_test = m_s.copy()\n",
    "m_f_test = m_f.copy()\n",
    "project_test = projects_test[0]\n",
    "\n",
    "success = predict_total_pledged(project_test, t, samples, m_s_test, m_f_test, pi, X_train_s, Y_train_s, X_train_f, Y_train_f)\n",
    "#print \"Predicted as %0.4f (%0.4f)\" % (yT_mean, yT_std)\n",
    "correct = (project_test.successful and success) or (not project_test.successful and not success)\n",
    "print \"Classified as %s, %s\" % (\"successful\" if success else \"failed\", \"CORRECT!\" if correct else \"wrong...\")\n",
    "print \"Actual total pledged money: %0.4f\" % project_test.money[T]\n",
    "project_test.plot()"
   ]
  },
  {
   "cell_type": "markdown",
   "metadata": {},
   "source": [
    "## Run experiment"
   ]
  },
  {
   "cell_type": "code",
   "execution_count": null,
   "metadata": {
    "collapsed": false
   },
   "outputs": [],
   "source": [
    "m_s_test = m_s.copy()\n",
    "m_f_test = m_f.copy()\n",
    "se_successful = 0\n",
    "std_successful = 0\n",
    "se_failed = 0\n",
    "std_failed = 0\n",
    "loss01 = 0\n",
    "count_classifier_successful = 0\n",
    "total_considered = 0\n",
    "for project in projects_test:\n",
    "    if project.money[T] < outliers_threshold:\n",
    "        total_considered += 1\n",
    "        y_T_mean, yT_std, success = predict_total_pledged(project, t, samples, m_s_test, m_f_test, pi)\n",
    "        if project.successful: \n",
    "                se_successful += (project.money[T] - y_T_mean)**2\n",
    "                std_successful += yT_std\n",
    "                if not success:  # Classification error\n",
    "                    loss01 += 1\n",
    "        else:  # project is failed\n",
    "            se_failed += (project.money[T] - y_T_mean)**2\n",
    "            std_failed += yT_std\n",
    "            if success:  # Classification error\n",
    "                loss01 += 1\n",
    "        if success:\n",
    "            count_classifier_successful += 1\n",
    "        \n",
    "print \"RMSE = %0.4f (±%0.4f)\" % (np.sqrt(np.mean(se_successful)), std_successful / float(N_test))\n",
    "print \"01-Loss = %0.4f\" % (loss01 / float(N_test))\n",
    "print \"Classifed as successful: %s out of %s projects considered\" % (count_classifier_successful, total_considered)"
   ]
  }
 ],
 "metadata": {
  "kernelspec": {
   "display_name": "Python 2",
   "language": "python",
   "name": "python2"
  },
  "language_info": {
   "codemirror_mode": {
    "name": "ipython",
    "version": 2
   },
   "file_extension": ".py",
   "mimetype": "text/x-python",
   "name": "python",
   "nbconvert_exporter": "python",
   "pygments_lexer": "ipython2",
   "version": "2.7.10"
  }
 },
 "nbformat": 4,
 "nbformat_minor": 0
}
