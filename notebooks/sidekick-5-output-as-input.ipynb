{
 "cells": [
  {
   "cell_type": "markdown",
   "metadata": {},
   "source": [
    "# Sidekick - Output as input\n",
    "\n",
    "## Outputs as Inputs\n",
    "### Model\n",
    "We change completely the approach. Instead of using the time as input and trying to predict the output at new time indices, we now consider the pledged money at each time step as input ($\\mathbf{y}$ becomes $\\mathbf{x}$) and the last time index as the output. That is, we have now a dataset $\\mathcal{D} = \\left\\{ (\\mathbf{x}^{(p)}, y^{(p)}) \\mid p = 1, ..., P \\right\\}$ with $\\mathbf{x}^{(p)} = \\mathbf{y}_{1:t}^{(p)}$ and $\\mathbf{y}^{(p)} = y_T^{(p)}$. We then have $X = \\left[\\mathbf{x}^{(p)}\\right]_{p=1}^P$ a $(P \\times t)$ matrix and $\\mathbf{y} = \\left[y_T^{(p)}\\right]_{p=1}^P$ a $(P \\times 1)$ target vector. The difference with the second approach is that now the features for each project are the amount of pledged money at different time step and not the same (shared) input values ($1,...,T$).\n",
    "\n",
    "Our goal now is to predict, for a new project $p$, the final amount of pledged money $f_*^{(p)} = y_T^{(p)} = f(\\mathbf{x}^{(p)}) = f(\\mathbf{y}_{1:t}^{(p)})$ for the money received up to time $t$ $X_*^{(p)} = \\mathbf{y}_{1:t}^{(p)}$ after observing the total pledged money for all projects $\\mathbf{y} = \\left[y_T^{(p)}\\right]_{p=1}^P$ and the money they received up to time $t$, $X = \\left[ \\mathbf{y}_{1:t}^{(p)} \\right]_{p=1}^P$. In the GP framework, we can compute this prediction using\n",
    "\n",
    "$$f_* \\mid X, \\mathbf{y}, X_* \\sim \\mathcal{N}\\left(\\overline{f}_*, \\text{ cov}(f_*)  \\right) \\\\\n",
    "\\overline{f}_* = K(X_*, X) \\left[ K(X, X) + \\sigma_n^2I \\right]^{-1}\\mathbf{y} \\\\\n",
    "\\text{cov}(f_*) = K(X_*, X_*) - K(X_*, X)\\left[ K(X, X) + \\sigma_n^2I \\right]^{-1}K(X, X_*).\n",
    "$$ \n",
    "\n",
    "As seen in [this plot](http://localhost:8888/notebooks/notebooks/sidekick-1-eda.ipynb#Output-as-input---Global), it seems impossible to do a regression considering all the projects together. However, the two modes corresponding to the successful and failed projects are clearly distinguisable. Therefore we try to perform the regression on each of the two classes separately. \n",
    "\n",
    "### Results\n",
    "As seen in [this plot](http://localhost:8888/notebooks/notebooks/sidekick-1-eda.ipynb#Output-as-input---Global), it seems impossible to do a regression considering all the projects together. However, the two modes corresponding to the successful and failed projects are clearly distinguisable, implying that a mixture of (GP) models can probably be used."
   ]
  },
  {
   "cell_type": "code",
   "execution_count": 3,
   "metadata": {
    "collapsed": false
   },
   "outputs": [
    {
     "name": "stdout",
     "output_type": "stream",
     "text": [
      "warning in stationary: failed to import cython module: falling back to numpy\n"
     ]
    }
   ],
   "source": [
    "%matplotlib inline\n",
    "import os\n",
    "import sys\n",
    "sys.path.insert(0, os.path.abspath('../utils/')) # Add sibling to Python path\n",
    "sys.path.insert(0, os.path.abspath('../src/')) # Add sibling to Python path\n",
    "sys.stdout.flush() # Print output on the fly in Notebook\n",
    "import matplotlib\n",
    "matplotlib.rcParams['figure.figsize'] = (18,8)\n",
    "matplotlib.rcParams['font.size'] = 16\n",
    "matplotlib.rcParams['legend.fontsize'] = 16\n",
    "from IPython.display import display\n",
    "import numpy as np\n",
    "import GPy\n",
    "import cPickle as cp\n",
    "import matplotlib.pyplot as plt\n",
    "from math import floor\n",
    "from dataset import Sidekick\n",
    "from misc_utils import progress\n",
    "\n",
    "DATA_DIR = \"../data/sidekick\"\n",
    "\n",
    "def predict_total_pledged(project, m_s_test, m_f_test):\n",
    "    money = np.expand_dims(project.money[:t], axis=0)\n",
    "    X_observed = np.ndarray(shape=(1, t), buffer=money, dtype=float)\n",
    "    yT_f = m_f_test.predict(X_observed)\n",
    "    yT_s = m_s_test.predict(X_observed)\n",
    "    yT_f_mean = yT_f[0][0][0]\n",
    "    yT_f_std = yT_f[1][0][0]\n",
    "    yT_s_mean = yT_s[0][0][0]\n",
    "    yT_s_std = yT_s[1][0][0]\n",
    "    \n",
    "    return yT_s_mean, yT_s_std, yT_f_mean, yT_f_std"
   ]
  },
  {
   "cell_type": "markdown",
   "metadata": {},
   "source": [
    "## Load data and separate successful from failed projects"
   ]
  },
  {
   "cell_type": "code",
   "execution_count": 4,
   "metadata": {
    "collapsed": false
   },
   "outputs": [
    {
     "name": "stdout",
     "output_type": "stream",
     "text": [
      "Loading projects...\n",
      "Loading statuses...\n",
      "Converting to project instances...\n",
      "Data loaded.\n"
     ]
    }
   ],
   "source": [
    "sk = Sidekick()\n",
    "sk.load()\n",
    "projects_train, projects_test = sk.split()\n",
    "successful = [project.money for project in projects_train if project.successful and project.money[-1] >= 1]\n",
    "failed = [project.money for project in projects_train if not project.successful]"
   ]
  },
  {
   "cell_type": "code",
   "execution_count": 22,
   "metadata": {
    "collapsed": true
   },
   "outputs": [],
   "source": [
    "N = 2000\n",
    "t = 500\n",
    "T = 999\n",
    "ard = False"
   ]
  },
  {
   "cell_type": "markdown",
   "metadata": {},
   "source": [
    "## Train GP-RBF on successful projects"
   ]
  },
  {
   "cell_type": "code",
   "execution_count": 30,
   "metadata": {
    "collapsed": false
   },
   "outputs": [
    {
     "name": "stdout",
     "output_type": "stream",
     "text": [
      "(1683, 500)\n",
      "(1683, 1)\n"
     ]
    },
    {
     "data": {
      "text/html": [
       "<style type=\"text/css\">\n",
       ".pd{\n",
       "    font-family: \"Courier New\", Courier, monospace !important;\n",
       "    width: 100%;\n",
       "    padding: 3px;\n",
       "}\n",
       "</style>\n",
       "\n",
       "<p class=pd>\n",
       "<b>Model</b>: GP regression<br>\n",
       "<b>Log-likelihood</b>: -1204.6162486<br>\n",
       "<b>Number of Parameters</b>: 2<br>\n",
       "<b>Number of Optimization Parameters</b>: 2<br>\n",
       "<b>Updates</b>: True<br>\n",
       "</p>\n",
       "<style type=\"text/css\">\n",
       ".tg  {font-family:\"Courier New\", Courier, monospace !important;padding:2px 3px;word-break:normal;border-collapse:collapse;border-spacing:0;border-color:#DCDCDC;margin:0px auto;width:100%;}\n",
       ".tg td{font-family:\"Courier New\", Courier, monospace !important;font-weight:bold;color:#444;background-color:#F7FDFA;border-style:solid;border-width:1px;overflow:hidden;word-break:normal;border-color:#DCDCDC;}\n",
       ".tg th{font-family:\"Courier New\", Courier, monospace !important;font-weight:normal;color:#fff;background-color:#26ADE4;border-style:solid;border-width:1px;overflow:hidden;word-break:normal;border-color:#DCDCDC;}\n",
       ".tg .tg-left{font-family:\"Courier New\", Courier, monospace !important;font-weight:normal;text-align:left;}\n",
       ".tg .tg-right{font-family:\"Courier New\", Courier, monospace !important;font-weight:normal;text-align:right;}\n",
       "</style>\n",
       "<table class=\"tg\">\n",
       "<tr>\n",
       "  <th><b>GP_regression.</b></th>\n",
       "  <th><b>Value</b></th>\n",
       "  <th><b>Constraint</b></th>\n",
       "  <th><b>Prior</b></th>\n",
       "  <th><b>Tied to</b></th>\n",
       "</tr>\n",
       "<tr><td class=tg-left>linear.variances       </td><td class=tg-right>0.028364809962</td><td class=tg-left>   +ve    </td><td class=tg-left>     </td><td class=tg-left>       </td></tr>\n",
       "<tr><td class=tg-left>Gaussian_noise.variance</td><td class=tg-right>0.234272559833</td><td class=tg-left>   +ve    </td><td class=tg-left>     </td><td class=tg-left>       </td></tr>\n",
       "</table>"
      ],
      "text/plain": [
       "<GPy.models.gp_regression.GPRegression at 0x10726e7d0>"
      ]
     },
     "metadata": {},
     "output_type": "display_data"
    }
   ],
   "source": [
    "successful_light = successful[:N]\n",
    "successful_light = [s for s in successful_light if s[T] < 2]\n",
    "X_train_s = np.ndarray(shape=(len(successful_light), t), buffer=np.array([money[0:t] for money in successful_light]), dtype=float) \n",
    "Y_train_s = np.expand_dims(np.array([money[T] for money in successful_light]), axis=1)\n",
    "print X_train_s.shape\n",
    "print Y_train_s.shape\n",
    "\n",
    "kernel = GPy.kern.Linear(input_dim=t, ARD=ard)\n",
    "m_s = GPy.models.GPRegression(X_train_s, Y_train_s, kernel)\n",
    "m_s.optimize()\n",
    "display(m_s)"
   ]
  },
  {
   "cell_type": "markdown",
   "metadata": {},
   "source": [
    "## Train GP-RBF on failed projects"
   ]
  },
  {
   "cell_type": "code",
   "execution_count": 31,
   "metadata": {
    "collapsed": false
   },
   "outputs": [
    {
     "name": "stdout",
     "output_type": "stream",
     "text": [
      "(2000, 500)\n",
      "(2000, 1)\n"
     ]
    },
    {
     "data": {
      "text/html": [
       "<style type=\"text/css\">\n",
       ".pd{\n",
       "    font-family: \"Courier New\", Courier, monospace !important;\n",
       "    width: 100%;\n",
       "    padding: 3px;\n",
       "}\n",
       "</style>\n",
       "\n",
       "<p class=pd>\n",
       "<b>Model</b>: GP regression<br>\n",
       "<b>Log-likelihood</b>: 2212.78879798<br>\n",
       "<b>Number of Parameters</b>: 2<br>\n",
       "<b>Number of Optimization Parameters</b>: 2<br>\n",
       "<b>Updates</b>: True<br>\n",
       "</p>\n",
       "<style type=\"text/css\">\n",
       ".tg  {font-family:\"Courier New\", Courier, monospace !important;padding:2px 3px;word-break:normal;border-collapse:collapse;border-spacing:0;border-color:#DCDCDC;margin:0px auto;width:100%;}\n",
       ".tg td{font-family:\"Courier New\", Courier, monospace !important;font-weight:bold;color:#444;background-color:#F7FDFA;border-style:solid;border-width:1px;overflow:hidden;word-break:normal;border-color:#DCDCDC;}\n",
       ".tg th{font-family:\"Courier New\", Courier, monospace !important;font-weight:normal;color:#fff;background-color:#26ADE4;border-style:solid;border-width:1px;overflow:hidden;word-break:normal;border-color:#DCDCDC;}\n",
       ".tg .tg-left{font-family:\"Courier New\", Courier, monospace !important;font-weight:normal;text-align:left;}\n",
       ".tg .tg-right{font-family:\"Courier New\", Courier, monospace !important;font-weight:normal;text-align:right;}\n",
       "</style>\n",
       "<table class=\"tg\">\n",
       "<tr>\n",
       "  <th><b>GP_regression.</b></th>\n",
       "  <th><b>Value</b></th>\n",
       "  <th><b>Constraint</b></th>\n",
       "  <th><b>Prior</b></th>\n",
       "  <th><b>Tied to</b></th>\n",
       "</tr>\n",
       "<tr><td class=tg-left>linear.variances       </td><td class=tg-right>  0.134220935202</td><td class=tg-left>   +ve    </td><td class=tg-left>     </td><td class=tg-left>       </td></tr>\n",
       "<tr><td class=tg-left>Gaussian_noise.variance</td><td class=tg-right>0.00567944646715</td><td class=tg-left>   +ve    </td><td class=tg-left>     </td><td class=tg-left>       </td></tr>\n",
       "</table>"
      ],
      "text/plain": [
       "<GPy.models.gp_regression.GPRegression at 0x10725c810>"
      ]
     },
     "metadata": {},
     "output_type": "display_data"
    }
   ],
   "source": [
    "failed_light = failed[:N]\n",
    "X_train_f = np.ndarray(shape=(len(failed_light), t), buffer=np.array([money[0:t] for money in failed_light]), dtype=float) \n",
    "Y_train_f = np.expand_dims(np.array([money[T] for money in failed_light]), axis=1)\n",
    "print X_train_f.shape\n",
    "print Y_train_f.shape\n",
    "\n",
    "kernel = GPy.kern.Linear(input_dim=t, ARD=ard)\n",
    "m_f = GPy.models.GPRegression(X_train_f, Y_train_f, kernel)\n",
    "m_f.optimize()\n",
    "display(m_f)"
   ]
  },
  {
   "cell_type": "markdown",
   "metadata": {},
   "source": [
    "## Set up experiment"
   ]
  },
  {
   "cell_type": "code",
   "execution_count": 27,
   "metadata": {
    "collapsed": false
   },
   "outputs": [
    {
     "name": "stdout",
     "output_type": "stream",
     "text": [
      "If successful, predicted as 1.2641 (0.0263)\n",
      "If failed, predicted as 0.1742 (0.1627)\n",
      "Actual total pledged money: 1.0413\n"
     ]
    }
   ],
   "source": [
    "m_s_test = m_s.copy()\n",
    "m_f_test = m_f.copy()\n",
    "project_test = projects_test[7]\n",
    "yT_s_mean, yT_s_std, yT_f_mean, yT_f_std = predict_total_pledged(project_test, m_s_test, m_f_test)\n",
    "print \"If successful, predicted as %0.4f (%0.4f)\" % (yT_s_mean, yT_s_std)\n",
    "print \"If failed, predicted as %0.4f (%0.4f)\" % (yT_f_mean, yT_f_std)\n",
    "print \"Actual total pledged money: %0.4f\" % project_test.money[T]"
   ]
  },
  {
   "cell_type": "markdown",
   "metadata": {},
   "source": [
    "## Run experiment"
   ]
  },
  {
   "cell_type": "code",
   "execution_count": 32,
   "metadata": {
    "collapsed": false
   },
   "outputs": [
    {
     "name": "stdout",
     "output_type": "stream",
     "text": [
      "Successful: RMSE = 5.2954 (±0.1135)\n",
      "Failed: RMSE = 0.5725 (±0.0034)\n"
     ]
    }
   ],
   "source": [
    "m_s_test = m_s.copy()\n",
    "m_f_test = m_f.copy()\n",
    "N_test = 200\n",
    "se_successful = 0\n",
    "std_successful = 0\n",
    "se_failed = 0\n",
    "std_failed = 0\n",
    "#np.random.shuffle(projects_test_small)\n",
    "projects_test_small = projects_test[:N_test]\n",
    "for project in projects_test_small:\n",
    "    yT_s_mean, yT_s_std, yT_f_mean, yT_f_std = predict_total_pledged(project, m_s_test, m_f_test)\n",
    "    if project.successful:\n",
    "        se_successful += (project.money[T] - yT_s_mean)**2\n",
    "        std_successful += yT_s_std \n",
    "    else:\n",
    "        se_failed += (project.money[T] - yT_f_mean)**2\n",
    "        std_failed += yT_f_std\n",
    "print \"Successful: RMSE = %0.4f (±%0.4f)\" % (np.sqrt(np.mean(se_successful)), std_successful / float(N_test))\n",
    "print \"Failed: RMSE = %0.4f (±%0.4f)\" % (np.sqrt(np.mean(se_failed)), std_failed / float(N_test))"
   ]
  },
  {
   "cell_type": "code",
   "execution_count": null,
   "metadata": {
    "collapsed": true
   },
   "outputs": [],
   "source": []
  }
 ],
 "metadata": {
  "kernelspec": {
   "display_name": "Python 2",
   "language": "python",
   "name": "python2"
  },
  "language_info": {
   "codemirror_mode": {
    "name": "ipython",
    "version": 2
   },
   "file_extension": ".py",
   "mimetype": "text/x-python",
   "name": "python",
   "nbconvert_exporter": "python",
   "pygments_lexer": "ipython2",
   "version": "2.7.10"
  }
 },
 "nbformat": 4,
 "nbformat_minor": 0
}
