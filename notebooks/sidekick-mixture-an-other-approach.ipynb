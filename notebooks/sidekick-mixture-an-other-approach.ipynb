{
 "cells": [
  {
   "cell_type": "markdown",
   "metadata": {},
   "source": [
    "# Sidekick - Mixture of Gaussian Processes: An Other Approach\n",
    "\n",
    "### Single-Project Regression\n",
    "#### Model\n",
    "We are approaching the problem as time series regression, considering only one project. Our dataset $\\mathcal{D} = \\left\\{ (x_i, y_i) \\mid i = 1, ..., n \\right\\}$ consists of $N$ observations, with $x_i$ the time index of the amount of money $y_i$. Hence, we have $X = [1, ..., N]^T$ an $(Nx1)$ matrix of time indices and $\\mathbf{y} = [y_1, ..., y_N]^T$ and vector of observed values. We model the pledged money $f(\\mathbf{x})$ at time indices $\\mathbf{x}$ as a Gaussian Process:\n",
    "\n",
    "$$f(\\mathbf{x}) \\sim GP \\left( m(\\mathbf{x}), k(\\mathbf{x}, \\mathbf{x'}) \\right). $$\n",
    "\n",
    "Our goal is to predict the future values of the pledged money $\\mathbf{f}_* = \\mathbf{f}_{t:N} = f(X_{t:N})$ at future time indices $X_* = X_{t:N} = [t, ..., N]^T$ after observing the values $\\mathbf{y} = \\mathbf{y}_{1:t} = [y_1, ..., y_t]^T$ at time indices $X = X_{1:t} = [1, ..., t]$. In the GP framework, we can compute this prediction using\n",
    "\n",
    "$$\\mathbf{f}_* \\mid X, \\mathbf{y}, X_* \\sim \\mathcal{N}\\left(\\overline{\\mathbf{f}}_*, \\text{ cov}(\\mathbf{f}_*)  \\right) \\\\\n",
    "\\overline{\\mathbf{f}}_* = K(X_*, X) \\left[ K(X, X) + \\sigma_n^2I \\right]^{-1}\\mathbf{y} \\\\\n",
    "\\text{ cov}(\\mathbf{f}_*) = K(X_*, X_*) - K(X_*, X)\\left[ K(X, X) + \\sigma_n^2I \\right]^{-1}K(X, X_*).\n",
    "$$ \n",
    "\n",
    "Finally, the kernel's (hyper)parameters $\\theta$ are learned by maximizing the *log  marginal likehood*\n",
    "\n",
    "$$\\theta_* = \\underset{\\theta} {argmax} \\log p(\\mathbf{y} \\mid X, \\theta).$$\n",
    "\n",
    "#### Results\n",
    "The major problem in this context was that the predictive mean $\\mathbf{f}_*$ always falls back to the mean $m(\\mathbf{x})$ very quickly. One solution has been to combine two squared-exponential kernels and initializing one of them to a large length-scale in order to capture the global trend. This yields to some reasonable result. However, when applying the same model to another ones (($\\theta$ learned over one project and used to predict another) gives very poor performance.\n",
    "\n",
    "\n",
    "### Multi-Project Regression\n",
    "#### Model\n",
    "Hence, our next idea is to consider several projects at the same time and try to learn the hyperparameters $\\theta$ over various time series. Our dataset is now $\\mathcal{D} = \\left\\{ (x_i, \\mathbf{y}_i) \\mid i = 1, ..., n \\right\\}$ \n",
    "\n",
    "\n",
    "\n",
    "\n",
    "\n",
    "\n",
    "\n",
    "\n",
    "\n",
    "For a given project $n$, we are trying to predict the pledged money $\\mathbf{f}_*^{(n)} = \\mathbf{y}_{t:T}^{(n)}$ at future time indices $\\mathbf{x}_*^{(n)} = \\mathbf{x}_{t:T}^{(n)} = \\mathbf{x}_{t:T} = [t,...,T]^T$ after observing the values $\\mathbf{y}^{(n)} = \\mathbf{y}_{1:t}^{(n)}$ at time indices $\\mathbf{x} = \\mathbf{x}_{1:t}$. \n",
    "$$\\mathbf{f}_{t:T}^{(n)} \\mid \\mathbf{x}_{1:t}, \\mathbf{y}_{1:t}, \\mathbf{\\theta} \\sim GP(\\mathbf{\\bar{f}_{t:T}^{(n)}}, cov(\\mathbf{f}_{t:T}^{(n)})), $$\n",
    "\n",
    "The hyperparameters $\\mathbf{\\theta}$ of the GP are learned over $X$ an $(Mx1)$ matrix of input variables and $Y$ an $(MxN)$ matrix of observations corresponding to the $M$ inputs for $N$ projects, by maximizing the marginal log-likelihood:\n",
    "\n",
    "$$\\theta^* = \\underset{\\theta} {argmax} \\log p(Y \\mid X, \\theta),$$\n",
    "\n",
    "where \n",
    "\n",
    "$$X = \\mathbf{x} = [1, 2, 3, ..., M]^T$$\n",
    "$$Y = \\left[y_{11}, y_{12}, ..., y_{1N} \\right].$$\n",
    "\n",
    "Formally, we were computing:\n",
    "\n",
    "$$p(\\mathbf{f}_{t:T}^{(n)} \\mid \\mathbf{x}_{1:t}, \\mathbf{y}_{1:t}, \\mathbf{\\theta})$$\n",
    "\n",
    "\n",
    "where  was learned \n",
    "\n",
    "We couldn't obtain good results with this approach, as it seems that the hyperparameters $\\theta$ are not learned well. Indeed, the predictions always fall back very quickly to the mean of the GP. By initializing one of the kernel with a large lenghtscale, we could obtain the general trend for one project and hence obtain some quite good results, but this approach didn't work when considering several projects for learning or trying to do the predictions for another project.\n",
    "\n",
    "Therefore, we tried a second approach, namely classification of successful projects. We train one GP on the successful projects, one on the failed projects and try to determine whether a new project will be successful or not. To do so, we would learn $\\theta_s$ the hyperparameters of a GP over the *successful* projects only and $\\theta_f$ the hyperparameters of a GP over the *failed* projects. Formally, we maximize the marginal log-likelihoods\n",
    "\n",
    "$$\\theta_s^* = \\underset{\\theta} {argmax} \\log p(Y_s \\mid X_s, \\theta)$$\n",
    "$$\\theta_f^* = \\underset{\\theta} {argmax} \\log p(Y_f \\mid X_f, \\theta)$$\n",
    "\n",
    "where $s$ and $f$ denotes the data of the successful and failed projects respectively. We then determine the class of a new, partially observed project as\n",
    "\n",
    "$$c_{*} = s\\text{ if } \\log p(\\mathbf{y}_{1:t}^{(n)} \\mid \\mathbf{x}_{1:t}, \\theta_s) > \\log p(\\mathbf{y}_{1:t}^{(n)} \\mid \\mathbf{x}_{1:t} \\mid \\theta_f)$$\n",
    "\n",
    "\n",
    "\n",
    "\n",
    "Instead of using the time as input and trying to predict the output at new time indices, we now consider the value at each time step as input (`y` becomes `x`) and the last time index as the output. "
   ]
  },
  {
   "cell_type": "code",
   "execution_count": 4,
   "metadata": {
    "collapsed": false
   },
   "outputs": [],
   "source": [
    "%matplotlib inline\n",
    "import os\n",
    "import sys\n",
    "sys.path.insert(0, os.path.abspath('../utils/')) # Add sibling to Python path\n",
    "sys.path.insert(0, os.path.abspath('../src/')) # Add sibling to Python path\n",
    "sys.stdout.flush() # Print output on the fly in Notebook\n",
    "import matplotlib\n",
    "matplotlib.rcParams['figure.figsize'] = (18,8)\n",
    "matplotlib.rcParams['font.size'] = 16\n",
    "matplotlib.rcParams['legend.fontsize'] = 16\n",
    "from IPython.display import display\n",
    "import numpy as np\n",
    "import GPy\n",
    "import cPickle as cp\n",
    "import matplotlib.pyplot as plt\n",
    "from math import floor\n",
    "from dataset import Sidekick\n",
    "from misc_utils import progress\n",
    "\n",
    "DATA_DIR = \"../data/sidekick\""
   ]
  },
  {
   "cell_type": "markdown",
   "metadata": {},
   "source": [
    "## Load data and separate successful from failed projects"
   ]
  },
  {
   "cell_type": "code",
   "execution_count": 5,
   "metadata": {
    "collapsed": false
   },
   "outputs": [
    {
     "name": "stdout",
     "output_type": "stream",
     "text": [
      "Loading projects...\n",
      "Loading statuses...\n",
      "Converting to project instances...\n",
      "Data loaded.\n"
     ]
    }
   ],
   "source": [
    "sk = Sidekick()\n",
    "sk.load()\n",
    "projects_train, projects_test = sk.split()\n",
    "successful = [project.money for project in projects_train if project.successful]\n",
    "failed = [project.money for project in projects_train if not project.successful]"
   ]
  },
  {
   "cell_type": "markdown",
   "metadata": {},
   "source": [
    "## Train GP-LIN on successful projects"
   ]
  },
  {
   "cell_type": "code",
   "execution_count": 1,
   "metadata": {
    "collapsed": true
   },
   "outputs": [],
   "source": [
    "N = 1000\n",
    "t = 20\n",
    "T = 999"
   ]
  },
  {
   "cell_type": "code",
   "execution_count": 129,
   "metadata": {
    "collapsed": false
   },
   "outputs": [
    {
     "name": "stdout",
     "output_type": "stream",
     "text": [
      "(1000, 20)\n",
      "(1000, 1)\n"
     ]
    },
    {
     "data": {
      "text/html": [
       "<style type=\"text/css\">\n",
       ".pd{\n",
       "    font-family: \"Courier New\", Courier, monospace !important;\n",
       "    width: 100%;\n",
       "    padding: 3px;\n",
       "}\n",
       "</style>\n",
       "\n",
       "<p class=pd>\n",
       "<b>Model</b>: GP regression<br>\n",
       "<b>Log-likelihood</b>: -2427.01523696<br>\n",
       "<b>Number of Parameters</b>: 2<br>\n",
       "<b>Number of Optimization Parameters</b>: 2<br>\n",
       "<b>Updates</b>: True<br>\n",
       "</p>\n",
       "<style type=\"text/css\">\n",
       ".tg  {font-family:\"Courier New\", Courier, monospace !important;padding:2px 3px;word-break:normal;border-collapse:collapse;border-spacing:0;border-color:#DCDCDC;margin:0px auto;width:100%;}\n",
       ".tg td{font-family:\"Courier New\", Courier, monospace !important;font-weight:bold;color:#444;background-color:#F7FDFA;border-style:solid;border-width:1px;overflow:hidden;word-break:normal;border-color:#DCDCDC;}\n",
       ".tg th{font-family:\"Courier New\", Courier, monospace !important;font-weight:normal;color:#fff;background-color:#26ADE4;border-style:solid;border-width:1px;overflow:hidden;word-break:normal;border-color:#DCDCDC;}\n",
       ".tg .tg-left{font-family:\"Courier New\", Courier, monospace !important;font-weight:normal;text-align:left;}\n",
       ".tg .tg-right{font-family:\"Courier New\", Courier, monospace !important;font-weight:normal;text-align:right;}\n",
       "</style>\n",
       "<table class=\"tg\">\n",
       "<tr>\n",
       "  <th><b>GP_regression.</b></th>\n",
       "  <th><b>Value</b></th>\n",
       "  <th><b>Constraint</b></th>\n",
       "  <th><b>Prior</b></th>\n",
       "  <th><b>Tied to</b></th>\n",
       "</tr>\n",
       "<tr><td class=tg-left>linear.variances       </td><td class=tg-right>758.916288815</td><td class=tg-left>   +ve    </td><td class=tg-left>     </td><td class=tg-left>       </td></tr>\n",
       "<tr><td class=tg-left>Gaussian_noise.variance</td><td class=tg-right>6.85125713052</td><td class=tg-left>   +ve    </td><td class=tg-left>     </td><td class=tg-left>       </td></tr>\n",
       "</table>"
      ],
      "text/plain": [
       "<GPy.models.gp_regression.GPRegression at 0x11787ea50>"
      ]
     },
     "metadata": {},
     "output_type": "display_data"
    }
   ],
   "source": [
    "successful_light = successful[:N]\n",
    "X_train_s = np.ndarray(shape=(len(successful_light), t), buffer=np.array([money[0:t] for money in successful_light]), dtype=float) \n",
    "Y_train_s = np.expand_dims(np.array([money[T] for money in successful_light]), axis=1)\n",
    "print X_train_s.shape\n",
    "print Y_train_s.shape\n",
    "\n",
    "kernel = GPy.kern.Linear(input_dim=t)\n",
    "m_s = GPy.models.GPRegression(X_train_s, Y_train_s, kernel)\n",
    "m_s.optimize()\n",
    "display(m_s)"
   ]
  },
  {
   "cell_type": "markdown",
   "metadata": {},
   "source": [
    "## Train GP-LIN on failed projects"
   ]
  },
  {
   "cell_type": "code",
   "execution_count": 128,
   "metadata": {
    "collapsed": false
   },
   "outputs": [
    {
     "name": "stdout",
     "output_type": "stream",
     "text": [
      "(1000, 20)\n",
      "(1000, 1)\n"
     ]
    },
    {
     "data": {
      "text/html": [
       "<style type=\"text/css\">\n",
       ".pd{\n",
       "    font-family: \"Courier New\", Courier, monospace !important;\n",
       "    width: 100%;\n",
       "    padding: 3px;\n",
       "}\n",
       "</style>\n",
       "\n",
       "<p class=pd>\n",
       "<b>Model</b>: GP regression<br>\n",
       "<b>Log-likelihood</b>: 455.583835375<br>\n",
       "<b>Number of Parameters</b>: 2<br>\n",
       "<b>Number of Optimization Parameters</b>: 2<br>\n",
       "<b>Updates</b>: True<br>\n",
       "</p>\n",
       "<style type=\"text/css\">\n",
       ".tg  {font-family:\"Courier New\", Courier, monospace !important;padding:2px 3px;word-break:normal;border-collapse:collapse;border-spacing:0;border-color:#DCDCDC;margin:0px auto;width:100%;}\n",
       ".tg td{font-family:\"Courier New\", Courier, monospace !important;font-weight:bold;color:#444;background-color:#F7FDFA;border-style:solid;border-width:1px;overflow:hidden;word-break:normal;border-color:#DCDCDC;}\n",
       ".tg th{font-family:\"Courier New\", Courier, monospace !important;font-weight:normal;color:#fff;background-color:#26ADE4;border-style:solid;border-width:1px;overflow:hidden;word-break:normal;border-color:#DCDCDC;}\n",
       ".tg .tg-left{font-family:\"Courier New\", Courier, monospace !important;font-weight:normal;text-align:left;}\n",
       ".tg .tg-right{font-family:\"Courier New\", Courier, monospace !important;font-weight:normal;text-align:right;}\n",
       "</style>\n",
       "<table class=\"tg\">\n",
       "<tr>\n",
       "  <th><b>GP_regression.</b></th>\n",
       "  <th><b>Value</b></th>\n",
       "  <th><b>Constraint</b></th>\n",
       "  <th><b>Prior</b></th>\n",
       "  <th><b>Tied to</b></th>\n",
       "</tr>\n",
       "<tr><td class=tg-left>linear.variances       </td><td class=tg-right>  7.42798173491</td><td class=tg-left>   +ve    </td><td class=tg-left>     </td><td class=tg-left>       </td></tr>\n",
       "<tr><td class=tg-left>Gaussian_noise.variance</td><td class=tg-right>0.0226221692639</td><td class=tg-left>   +ve    </td><td class=tg-left>     </td><td class=tg-left>       </td></tr>\n",
       "</table>"
      ],
      "text/plain": [
       "<GPy.models.gp_regression.GPRegression at 0x11782be50>"
      ]
     },
     "metadata": {},
     "output_type": "display_data"
    }
   ],
   "source": [
    "failed_light = failed[:1000]\n",
    "X_train_f = np.ndarray(shape=(len(failed_light), 20), buffer=np.array([money[0:20] for money in failed_light]), dtype=float) \n",
    "Y_train_f = np.expand_dims(np.array([money[-1] for money in failed_light]), axis=1)\n",
    "print X_train_f.shape\n",
    "print Y_train_f.shape\n",
    "\n",
    "kernel = GPy.kern.Linear(input_dim=20) # Try with: ARD=True\n",
    "m_f = GPy.models.GPRegression(X_train_f, Y_train_f, kernel)\n",
    "m_f.optimize()\n",
    "display(m_f)"
   ]
  },
  {
   "cell_type": "markdown",
   "metadata": {},
   "source": [
    "## Set up experiment"
   ]
  },
  {
   "cell_type": "code",
   "execution_count": 130,
   "metadata": {
    "collapsed": false
   },
   "outputs": [],
   "source": [
    "def predict_total_pledged(project, m_s_test, m_f_test):\n",
    "    money = np.expand_dims(project.money[:20], axis=0)\n",
    "    X_observed = np.ndarray(shape=(1, 20), buffer=money, dtype=float)\n",
    "    yT_f = m_f_test.predict(X_observed)\n",
    "    yT_s = m_s_test.predict(X_observed)\n",
    "    \n",
    "    return yT_f, yT_s"
   ]
  },
  {
   "cell_type": "code",
   "execution_count": 144,
   "metadata": {
    "collapsed": false
   },
   "outputs": [
    {
     "name": "stdout",
     "output_type": "stream",
     "text": [
      "If successful, predicted as 2.6164 (7.1267)\n",
      "If failed, predicted as 1.6915 (0.0676)\n",
      "Actual total pledged money: 1.0413\n"
     ]
    }
   ],
   "source": [
    "m_s_test = m_s.copy()\n",
    "m_f_test = m_f.copy()\n",
    "project_test = projects_test[7]\n",
    "yT_f, yT_s = predict_total_pledged(project_test, m_s_test, m_f_test)\n",
    "print \"If successful, predicted as %0.4f (%0.4f)\" % (yT_s[0][0][0], yT_s[1][0][0])\n",
    "print \"If failed, predicted as %0.4f (%0.4f)\" % (yT_f[0][0][0], yT_f[1][0][0])\n",
    "print \"Actual total pledged money: %0.4f\" % project_test.money[-1]"
   ]
  },
  {
   "cell_type": "code",
   "execution_count": 136,
   "metadata": {
    "collapsed": false
   },
   "outputs": [
    {
     "name": "stdout",
     "output_type": "stream",
     "text": [
      "3\n",
      "4\n",
      "6\n",
      "7\n",
      "11\n",
      "12\n",
      "16\n",
      "17\n",
      "21\n",
      "22\n",
      "23\n",
      "24\n",
      "28\n",
      "31\n",
      "33\n",
      "34\n",
      "36\n",
      "44\n",
      "47\n",
      "48\n",
      "49\n",
      "50\n",
      "54\n",
      "58\n",
      "60\n",
      "63\n",
      "64\n",
      "67\n",
      "68\n",
      "69\n",
      "72\n",
      "75\n",
      "77\n",
      "79\n",
      "80\n",
      "82\n",
      "85\n",
      "86\n",
      "89\n",
      "90\n",
      "91\n",
      "93\n",
      "94\n",
      "95\n",
      "99\n"
     ]
    }
   ],
   "source": [
    "for i, p in enumerate(projects_test[:100]):\n",
    "    if p.successful:\n",
    "        print i"
   ]
  },
  {
   "cell_type": "code",
   "execution_count": 141,
   "metadata": {
    "collapsed": false
   },
   "outputs": [
    {
     "name": "stdout",
     "output_type": "stream",
     "text": [
      "Goal: $1000\n",
      "Pledged: $1130\n"
     ]
    },
    {
     "data": {
      "image/png": "[encoded data removed]",
      "text/plain": [
       "<matplotlib.figure.Figure at 0x1150ccf50>"
      ]
     },
     "metadata": {},
     "output_type": "display_data"
    }
   ],
   "source": [
    "project_test.plot()"
   ]
  },
  {
   "cell_type": "markdown",
   "metadata": {},
   "source": [
    "## Run experiment"
   ]
  },
  {
   "cell_type": "code",
   "execution_count": 8,
   "metadata": {
    "collapsed": false
   },
   "outputs": [
    {
     "name": "stdout",
     "output_type": "stream",
     "text": [
      "Accuracy 0.52\n",
      "[1, 1, 1, 1, 1, 1, 1, 1, 1, 1, 0, 1, 1, 1, 1, 1, 1, 1, 1, 1, 1, 1, 1, 1, 1, 1, 1, 1, 1, 1, 1, 1, 0, 1, 1, 0, 1, 1, 1, 1, 1, 1, 1, 1, 1, 1, 1, 1, 1, 1, 1, 1, 0, 1, 0, 1, 1, 1, 1, 1, 1, 1, 1, 1, 1, 1, 1, 1, 1, 1, 0, 1, 1, 1, 1, 1, 1, 0, 1, 1, 1, 1, 1, 1, 1, 1, 1, 1, 1, 1, 1, 1, 1, 1, 1, 1, 1, 1, 1, 1]\n",
      "[0, 0, 0, 1, 0, 0, 1, 0, 0, 0, 0, 0, 0, 1, 1, 0, 0, 1, 0, 0, 0, 0, 1, 1, 1, 0, 1, 1, 0, 0, 0, 1, 0, 1, 0, 0, 0, 0, 0, 1, 0, 1, 0, 1, 1, 0, 0, 1, 1, 1, 1, 0, 0, 0, 0, 1, 0, 1, 0, 0, 0, 0, 1, 1, 1, 0, 1, 0, 0, 1, 0, 0, 1, 1, 0, 0, 1, 0, 1, 0, 0, 1, 0, 1, 1, 1, 0, 1, 0, 0, 1, 1, 1, 1, 0, 1, 1, 1, 1, 1]\n",
      "[0, 0, 0, 1, 0, 0, 1, 0, 0, 0, 1, 0, 0, 1, 1, 0, 0, 1, 0, 0, 0, 0, 1, 1, 1, 0, 1, 1, 0, 0, 0, 1, 1, 1, 0, 1, 0, 0, 0, 1, 0, 1, 0, 1, 1, 0, 0, 1, 1, 1, 1, 0, 1, 0, 1, 1, 0, 1, 0, 0, 0, 0, 1, 1, 1, 0, 1, 0, 0, 1, 1, 0, 1, 1, 0, 0, 1, 1, 1, 0, 0, 1, 0, 1, 1, 1, 0, 1, 0, 0, 1, 1, 1, 1, 0, 1, 1, 1, 1, 1]\n"
     ]
    }
   ],
   "source": [
    "m_s_test = m_s.copy()\n",
    "m_f_test = m_f.copy()\n",
    "accuracy = []\n",
    "predicted = []\n",
    "actual = []\n",
    "projects_test_small = projects_test[:100]\n",
    "np.random.shuffle(projects_test_small)\n",
    "for project in projects_test_small:\n",
    "    state = classify_project(project, m_s_test, m_f_test, threshold=1.0)\n",
    "    predicted.append(state)\n",
    "    actual.append(int(project.successful))\n",
    "    accuracy.append(int(state == project.successful))\n",
    "print \"Accuracy %s\" % np.mean(accuracy)\n",
    "print predicted\n",
    "print actual\n",
    "print accuracy"
   ]
  },
  {
   "cell_type": "markdown",
   "metadata": {},
   "source": [
    "## Prototypes\n",
    "We display here the \"prototypical\" successful and failed projects and the averaged of each class. We notice that there a clear difference between the two, even with very few observations. Therefore, there is definitely a way to discriminate between the two, but the current approach is not correct."
   ]
  },
  {
   "cell_type": "code",
   "execution_count": 1,
   "metadata": {
    "collapsed": false
   },
   "outputs": [
    {
     "ename": "NameError",
     "evalue": "name 'np' is not defined",
     "output_type": "error",
     "traceback": [
      "\u001b[0;31m---------------------------------------------------------------------------\u001b[0m",
      "\u001b[0;31mNameError\u001b[0m                                 Traceback (most recent call last)",
      "\u001b[0;32m<ipython-input-1-dbd35011f006>\u001b[0m in \u001b[0;36m<module>\u001b[0;34m()\u001b[0m\n\u001b[0;32m----> 1\u001b[0;31m \u001b[0ms\u001b[0m \u001b[0;34m=\u001b[0m \u001b[0mnp\u001b[0m\u001b[0;34m.\u001b[0m\u001b[0marray\u001b[0m\u001b[0;34m(\u001b[0m\u001b[0msuccessful\u001b[0m\u001b[0;34m)\u001b[0m\u001b[0;34m\u001b[0m\u001b[0m\n\u001b[0m\u001b[1;32m      2\u001b[0m \u001b[0mmean_s\u001b[0m \u001b[0;34m=\u001b[0m \u001b[0mnp\u001b[0m\u001b[0;34m.\u001b[0m\u001b[0mmean\u001b[0m\u001b[0;34m(\u001b[0m\u001b[0ms\u001b[0m\u001b[0;34m,\u001b[0m \u001b[0maxis\u001b[0m\u001b[0;34m=\u001b[0m\u001b[0;36m0\u001b[0m\u001b[0;34m)\u001b[0m\u001b[0;34m\u001b[0m\u001b[0m\n\u001b[1;32m      3\u001b[0m \u001b[0mstd_s\u001b[0m \u001b[0;34m=\u001b[0m \u001b[0mnp\u001b[0m\u001b[0;34m.\u001b[0m\u001b[0mstd\u001b[0m\u001b[0;34m(\u001b[0m\u001b[0ms\u001b[0m\u001b[0;34m,\u001b[0m \u001b[0maxis\u001b[0m\u001b[0;34m=\u001b[0m\u001b[0;36m0\u001b[0m\u001b[0;34m)\u001b[0m\u001b[0;34m\u001b[0m\u001b[0m\n\u001b[1;32m      4\u001b[0m \u001b[0mf\u001b[0m \u001b[0;34m=\u001b[0m \u001b[0mnp\u001b[0m\u001b[0;34m.\u001b[0m\u001b[0marray\u001b[0m\u001b[0;34m(\u001b[0m\u001b[0mfailed\u001b[0m\u001b[0;34m)\u001b[0m\u001b[0;34m\u001b[0m\u001b[0m\n\u001b[1;32m      5\u001b[0m \u001b[0mmean_f\u001b[0m \u001b[0;34m=\u001b[0m \u001b[0mnp\u001b[0m\u001b[0;34m.\u001b[0m\u001b[0mmean\u001b[0m\u001b[0;34m(\u001b[0m\u001b[0mf\u001b[0m\u001b[0;34m,\u001b[0m \u001b[0maxis\u001b[0m\u001b[0;34m=\u001b[0m\u001b[0;36m0\u001b[0m\u001b[0;34m)\u001b[0m\u001b[0;34m\u001b[0m\u001b[0m\n",
      "\u001b[0;31mNameError\u001b[0m: name 'np' is not defined"
     ]
    }
   ],
   "source": [
    "s = np.array(successful)\n",
    "mean_s = np.mean(s, axis=0)\n",
    "std_s = np.std(s, axis=0)\n",
    "f = np.array(failed)\n",
    "mean_f = np.mean(f, axis=0)\n",
    "std_f = np.std(f, axis=0)\n",
    "plt.errorbar(range(1000), mean_s, std_s / np.sqrt(len(successful)))\n",
    "plt.errorbar(range(1000), mean_f, std_f / np.sqrt(len(failed)))\n",
    "plt.legend(['Sucessful', 'Failed'], loc=2)\n",
    "plt.xlabel('Normalized time')\n",
    "plt.ylabel('Pledged money')\n",
    "plt.show()"
   ]
  }
 ],
 "metadata": {
  "kernelspec": {
   "display_name": "Python 2",
   "language": "python",
   "name": "python2"
  },
  "language_info": {
   "codemirror_mode": {
    "name": "ipython",
    "version": 2
   },
   "file_extension": ".py",
   "mimetype": "text/x-python",
   "name": "python",
   "nbconvert_exporter": "python",
   "pygments_lexer": "ipython2",
   "version": "2.7.10"
  }
 },
 "nbformat": 4,
 "nbformat_minor": 0
}
