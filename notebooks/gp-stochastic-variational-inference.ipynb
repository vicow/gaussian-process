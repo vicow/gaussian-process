{
 "cells": [
  {
   "cell_type": "code",
   "execution_count": null,
   "metadata": {
    "collapsed": false
   },
   "outputs": [],
   "source": [
    "import numpy as np\n",
    "import GPy\n",
    "from matplotlib import pyplot as plt\n",
    "import climin\n",
    "%matplotlib inline\n",
    "%config InlineBackend.figure_format = 'svg'\n",
    "#plt.rcParams['figure.figsize'] = 8,8\n",
    "\n",
    "N=5000\n",
    "X = np.random.rand(N)[:, None]\n",
    "Y1 = np.sin(6*X) + 0.1*np.random.randn(N,1)\n",
    "Y2 = np.sin(3*X) + 0.1*np.random.randn(N,1)\n",
    "Y = np.hstack((Y1, Y2))\n",
    "\n",
    "batchsize = 10\n",
    "num_inducing_points = 20\n",
    "iterations = 1000\n",
    "\n",
    "X_variance = None\n",
    "\n",
    "Z = np.random.rand(num_inducing_points,1)\n",
    "\n",
    "# + GPy.kern.White(1)\n",
    "m = GPy.core.SVGP(X, Y, Z, GPy.kern.RBF(1) , GPy.likelihoods.Gaussian(), batchsize=batchsize)\n",
    "#m.kern.white.variance = 1e-5\n",
    "#m.kern.white.fix()\n",
    "\n",
    "opt = climin.Adadelta(m.optimizer_array, m.stochastic_grad, step_rate=0.2, momentum=0.9)\n",
    "from ipywidgets import Text\n",
    "from IPython.display import display\n",
    "\n",
    "t = Text(align='right')\n",
    "display(t)\n",
    "\n",
    "import sys\n",
    "def callback(i):\n",
    "    t.value = str(m.log_likelihood())\n",
    "    #Stop after 5000 iterations\n",
    "    if i['n_iter'] > iterations:\n",
    "        return True\n",
    "    return False\n",
    "info = opt.minimize_until(callback)"
   ]
  },
  {
   "cell_type": "code",
   "execution_count": null,
   "metadata": {
    "collapsed": false
   },
   "outputs": [],
   "source": [
    "fig1, axes = plt.subplots(1, 2, figsize=(10,5))\n",
    "ax = axes[0]\n",
    "ax.plot(X, Y1, 'kx', alpha=0.1)\n",
    "ax.set_xlabel('X')\n",
    "ax.set_ylabel('Y1')\n",
    "ax.set_title('SVI Y1 prediction with data')\n",
    "_ = m.plot(which_data_ycols=[0], plot_limits=(X.min(),X.max()), ax=ax)\n",
    "ax.set_xlim((X.min(),X.max()))\n",
    "\n",
    "ax = axes[1]\n",
    "ax.plot(X, Y2, 'kx', alpha=0.1)\n",
    "ax.set_xlabel('X')\n",
    "ax.set_ylabel('Y2')\n",
    "ax.set_title('SVI Y2 prediction with data')\n",
    "_ = m.plot(which_data_ycols=[1], plot_limits=(X.min(),X.max()), ax=ax)\n",
    "ax.set_xlim((X.min(),X.max()))\n",
    "\n",
    "fig1.tight_layout()"
   ]
  }
 ],
 "metadata": {
  "kernelspec": {
   "display_name": "Python 2",
   "language": "python",
   "name": "python2"
  },
  "language_info": {
   "codemirror_mode": {
    "name": "ipython",
    "version": 2
   },
   "file_extension": ".py",
   "mimetype": "text/x-python",
   "name": "python",
   "nbconvert_exporter": "python",
   "pygments_lexer": "ipython2",
   "version": "2.7.10"
  }
 },
 "nbformat": 4,
 "nbformat_minor": 0
}
