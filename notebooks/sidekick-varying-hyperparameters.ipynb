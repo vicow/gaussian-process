{
 "cells": [
  {
   "cell_type": "markdown",
   "metadata": {},
   "source": [
    "# Sidekick - Varying hyperparameters\n",
    "We try in this notebook to perform the regression over a project by varying the hyperparameters accross time."
   ]
  },
  {
   "cell_type": "code",
   "execution_count": 1,
   "metadata": {
    "collapsed": false
   },
   "outputs": [
    {
     "name": "stdout",
     "output_type": "stream",
     "text": [
      "warning in stationary: failed to import cython module: falling back to numpy\n"
     ]
    }
   ],
   "source": [
    "%matplotlib inline\n",
    "import os\n",
    "import sys\n",
    "sys.path.insert(0, os.path.abspath('../utils/')) # Add sibling to Python path\n",
    "sys.path.insert(0, os.path.abspath('../src/')) # Add sibling to Python path\n",
    "sys.stdout.flush() # Print output on the fly in Notebook\n",
    "import matplotlib\n",
    "matplotlib.rcParams['figure.figsize'] = (18,8)\n",
    "matplotlib.rcParams['font.size'] = 16\n",
    "matplotlib.rcParams['legend.fontsize'] = 16\n",
    "from IPython.display import display\n",
    "import numpy as np\n",
    "import GPy\n",
    "import cPickle as cp\n",
    "import matplotlib.pyplot as plt\n",
    "from math import floor\n",
    "from dataset import Sidekick\n",
    "from misc_utils import progress\n",
    "\n",
    "DATA_DIR = \"../data/sidekick\""
   ]
  },
  {
   "cell_type": "markdown",
   "metadata": {},
   "source": [
    "## Load data"
   ]
  },
  {
   "cell_type": "code",
   "execution_count": 3,
   "metadata": {
    "collapsed": false
   },
   "outputs": [
    {
     "name": "stdout",
     "output_type": "stream",
     "text": [
      "Loading projects...\n",
      "Loading statuses...\n",
      "Data loaded.\n"
     ]
    }
   ],
   "source": [
    "def load_binary(file_name):\n",
    "    with open(file_name, 'rb') as f:\n",
    "        return cp.load(f)\n",
    "    \n",
    "\n",
    "def load_project(project_id):\n",
    "    data = load_binary(\"%s/project_%s.pkl\" % (DATA_DIR, project_id))\n",
    "    project = data[\"project\"]\n",
    "    status = data[\"status\"]\n",
    "    tweet = data[\"tweet\"]\n",
    "    return project, status, tweet\n",
    "\n",
    "sk = Sidekick()\n",
    "sk.load()\n",
    "\n",
    "#project_id = \"14035777\"\n",
    "#project, status, tweet = load_project(project_id)"
   ]
  },
  {
   "cell_type": "code",
   "execution_count": null,
   "metadata": {
    "collapsed": true
   },
   "outputs": [],
   "source": []
  }
 ],
 "metadata": {
  "kernelspec": {
   "display_name": "Python 2",
   "language": "python",
   "name": "python2"
  },
  "language_info": {
   "codemirror_mode": {
    "name": "ipython",
    "version": 2
   },
   "file_extension": ".py",
   "mimetype": "text/x-python",
   "name": "python",
   "nbconvert_exporter": "python",
   "pygments_lexer": "ipython2",
   "version": "2.7.10"
  }
 },
 "nbformat": 4,
 "nbformat_minor": 0
}
