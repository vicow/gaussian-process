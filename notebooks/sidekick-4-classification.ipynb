{
 "cells": [
  {
   "cell_type": "markdown",
   "metadata": {},
   "source": [
    "# Sidekick - Classification\n",
    "\n",
    "#### Model\n",
    "We then decide to try a simpler task. Instead of trying to predict a number of (future) points after some observations, we try now to classify whether a project $p$ will be successful ($c^{(p)} = 1$) or not ($c^{(p)} = 0$). Indeed, by separating the dataset in two classes (*successul* and *failed*), we notice that they have a very different profiles (look at the mean of both classes in [sidekick-classification]) and therefore should be easy to discriminate. To do so, we train one GP using the successful projects, one using the failed projects and try to determine whether a new, partially observed project will be successful or not. We learn $\\theta_s$ the hyperparameters of a GP over $P_s$ *successful* projects only and $\\theta_f$ the hyperparameters of a GP over the $P_f$ *failed* projects. That is, we maximize the log marginal likelihoods\n",
    "\n",
    "$$\\theta_s = \\underset{\\theta} {\\arg\\max} \\sum_{p=1}^{P_s} \\log p(\\mathbf{y}_s^{(p)} \\mid X, \\theta)$$\n",
    "$$\\theta_f = \\underset{\\theta} {\\arg\\max} \\sum_{p=1}^{P_f} \\log p(\\mathbf{y}_f^{(p)} \\mid X, \\theta),$$\n",
    "\n",
    "where $\\mathbf{y}_s$ and $\\mathbf{y}_f$ denote the observations of the successful and failed projects respectively. We then determine the success state $c^{(p)}$ of a new project $p$ with partial observations $\\mathbf{y}_{1:t}^{(p)}$ as\n",
    "\n",
    "$$c^{(p)} = \n",
    "\\begin{cases}\n",
    "    1, & \\text{ if } \\log p(\\mathbf{y}_{1:t}^{(p)} \\mid X_{1:t}, \\theta_s) > \\log p(\\mathbf{y}_{1:t}^{(p)} \\mid X_{1:t}, \\theta_f) \\\\\n",
    "    0, & \\text{ otherwise }\n",
    "\\end{cases}.$$\n",
    "\n",
    "#### Results\n",
    "\n"
   ]
  },
  {
   "cell_type": "code",
   "execution_count": 2,
   "metadata": {
    "collapsed": false
   },
   "outputs": [],
   "source": [
    "%matplotlib inline\n",
    "import os\n",
    "import sys\n",
    "sys.path.insert(0, os.path.abspath('../utils/')) # Add sibling to Python path\n",
    "sys.path.insert(0, os.path.abspath('../src/')) # Add sibling to Python path\n",
    "sys.stdout.flush() # Print output on the fly in Notebook\n",
    "import matplotlib\n",
    "matplotlib.rcParams['figure.figsize'] = (12,8)\n",
    "matplotlib.rcParams['font.size'] = 16\n",
    "matplotlib.rcParams['legend.fontsize'] = 16\n",
    "from IPython.display import display\n",
    "import numpy as np\n",
    "import GPy\n",
    "import pickle as cp\n",
    "import matplotlib.pyplot as plt\n",
    "from math import floor\n",
    "from dataset import Sidekick\n",
    "\n",
    "DATA_DIR = \"../data/sidekick\""
   ]
  },
  {
   "cell_type": "markdown",
   "metadata": {},
   "source": [
    "## Load data and separate successful from failed projects"
   ]
  },
  {
   "cell_type": "code",
   "execution_count": 3,
   "metadata": {
    "collapsed": false
   },
   "outputs": [
    {
     "name": "stdout",
     "output_type": "stream",
     "text": [
      "Loading data set...\n",
      "Data loaded.\n"
     ]
    }
   ],
   "source": [
    "sk = Sidekick()\n",
    "sk.load()\n",
    "projects_train, projects_test = sk.split()\n",
    "successful = [project.money for project in projects_train if project.successful]\n",
    "failed = [project.money for project in projects_train if not project.successful]"
   ]
  },
  {
   "cell_type": "markdown",
   "metadata": {},
   "source": [
    "## Train GP-LIN on successful projects"
   ]
  },
  {
   "cell_type": "code",
   "execution_count": 4,
   "metadata": {
    "collapsed": false
   },
   "outputs": [
    {
     "name": "stdout",
     "output_type": "stream",
     "text": [
      "(1000, 1)\n",
      "(1000, 6192)\n"
     ]
    },
    {
     "data": {
      "text/html": [
       "<style type=\"text/css\">\n",
       ".pd{\n",
       "    font-family: \"Courier New\", Courier, monospace !important;\n",
       "    width: 100%;\n",
       "    padding: 3px;\n",
       "}\n",
       "</style>\n",
       "\n",
       "<p class=pd>\n",
       "<b>Model</b>: GP regression<br>\n",
       "<b>Objective</b>: 15144709.018787963<br>\n",
       "<b>Number of Parameters</b>: 2<br>\n",
       "<b>Number of Optimization Parameters</b>: 2<br>\n",
       "<b>Updates</b>: True<br>\n",
       "</p>\n",
       "<style type=\"text/css\">\n",
       ".tg  {font-family:\"Courier New\", Courier, monospace !important;padding:2px 3px;word-break:normal;border-collapse:collapse;border-spacing:0;border-color:#DCDCDC;margin:0px auto;width:100%;}\n",
       ".tg td{font-family:\"Courier New\", Courier, monospace !important;font-weight:bold;color:#444;background-color:#F7FDFA;border-style:solid;border-width:1px;overflow:hidden;word-break:normal;border-color:#DCDCDC;}\n",
       ".tg th{font-family:\"Courier New\", Courier, monospace !important;font-weight:normal;color:#fff;background-color:#26ADE4;border-style:solid;border-width:1px;overflow:hidden;word-break:normal;border-color:#DCDCDC;}\n",
       ".tg .tg-left{font-family:\"Courier New\", Courier, monospace !important;font-weight:normal;text-align:left;}\n",
       ".tg .tg-center{font-family:\"Courier New\", Courier, monospace !important;font-weight:normal;text-align:center;}\n",
       ".tg .tg-right{font-family:\"Courier New\", Courier, monospace !important;font-weight:normal;text-align:right;}\n",
       "</style>\n",
       "<table class=\"tg\"><tr><th><b>  GP_regression.         </b></th><th><b>            value</b></th><th><b>constraints</b></th><th><b>priors</b></th></tr>\n",
       "<tr><td class=tg-left>  linear.variances       </td><td class=tg-right>0.000364552590415</td><td class=tg-center>    +ve    </td><td class=tg-center>      </td></tr>\n",
       "<tr><td class=tg-left>  Gaussian_noise.variance</td><td class=tg-right>    7.72270489278</td><td class=tg-center>    +ve    </td><td class=tg-center>      </td></tr>\n",
       "</table>"
      ],
      "text/plain": [
       "<GPy.models.gp_regression.GPRegression at 0x11b7319e8>"
      ]
     },
     "metadata": {},
     "output_type": "display_data"
    }
   ],
   "source": [
    "X_train_s = np.ndarray(shape=(len(successful[0]), 1), buffer=np.arange(len(successful[0])), dtype=int) \n",
    "Y_train_s = np.array(successful).T\n",
    "print(X_train_s.shape)\n",
    "print(Y_train_s.shape)\n",
    "\n",
    "kernel = GPy.kern.Linear(input_dim=1)\n",
    "m_s = GPy.models.GPRegression(X_train_s, Y_train_s, kernel)\n",
    "m_s.optimize()\n",
    "display(m_s)"
   ]
  },
  {
   "cell_type": "markdown",
   "metadata": {},
   "source": [
    "## Train GP-LIN on failed projects"
   ]
  },
  {
   "cell_type": "code",
   "execution_count": 7,
   "metadata": {
    "collapsed": false
   },
   "outputs": [
    {
     "name": "stdout",
     "output_type": "stream",
     "text": [
      "(1000, 1)\n",
      "(1000, 6641)\n"
     ]
    },
    {
     "data": {
      "text/html": [
       "<style type=\"text/css\">\n",
       ".pd{\n",
       "    font-family: \"Courier New\", Courier, monospace !important;\n",
       "    width: 100%;\n",
       "    padding: 3px;\n",
       "}\n",
       "</style>\n",
       "\n",
       "<p class=pd>\n",
       "<b>Model</b>: GP regression<br>\n",
       "<b>Objective</b>: 689420.0563237467<br>\n",
       "<b>Number of Parameters</b>: 2<br>\n",
       "<b>Number of Optimization Parameters</b>: 2<br>\n",
       "<b>Updates</b>: True<br>\n",
       "</p>\n",
       "<style type=\"text/css\">\n",
       ".tg  {font-family:\"Courier New\", Courier, monospace !important;padding:2px 3px;word-break:normal;border-collapse:collapse;border-spacing:0;border-color:#DCDCDC;margin:0px auto;width:100%;}\n",
       ".tg td{font-family:\"Courier New\", Courier, monospace !important;font-weight:bold;color:#444;background-color:#F7FDFA;border-style:solid;border-width:1px;overflow:hidden;word-break:normal;border-color:#DCDCDC;}\n",
       ".tg th{font-family:\"Courier New\", Courier, monospace !important;font-weight:normal;color:#fff;background-color:#26ADE4;border-style:solid;border-width:1px;overflow:hidden;word-break:normal;border-color:#DCDCDC;}\n",
       ".tg .tg-left{font-family:\"Courier New\", Courier, monospace !important;font-weight:normal;text-align:left;}\n",
       ".tg .tg-center{font-family:\"Courier New\", Courier, monospace !important;font-weight:normal;text-align:center;}\n",
       ".tg .tg-right{font-family:\"Courier New\", Courier, monospace !important;font-weight:normal;text-align:right;}\n",
       "</style>\n",
       "<table class=\"tg\"><tr><th><b>  GP_regression.         </b></th><th><b>            value</b></th><th><b>constraints</b></th><th><b>priors</b></th></tr>\n",
       "<tr><td class=tg-left>  linear.variances       </td><td class=tg-right>   0.570042059768</td><td class=tg-center>    +ve    </td><td class=tg-center>      </td></tr>\n",
       "<tr><td class=tg-left>  Gaussian_noise.variance</td><td class=tg-right>1.30187634476e-09</td><td class=tg-center>    +ve    </td><td class=tg-center>      </td></tr>\n",
       "</table>"
      ],
      "text/plain": [
       "<GPy.models.gp_regression.GPRegression at 0x11b3d8588>"
      ]
     },
     "metadata": {},
     "output_type": "display_data"
    }
   ],
   "source": [
    "X_train_f = np.ndarray(shape=(len(failed[0]), 1), buffer=np.arange(len(failed[0])), dtype=int) \n",
    "Y_train_f = np.array(failed).T\n",
    "print(X_train_f.shape)\n",
    "print(Y_train_f.shape)\n",
    "\n",
    "kernel = GPy.kern.Linear(input_dim=1)\n",
    "m_f = GPy.models.GPRegression(X_train_f, Y_train_f, kernel)\n",
    "m_f.optimize()\n",
    "display(m_f)"
   ]
  },
  {
   "cell_type": "markdown",
   "metadata": {},
   "source": [
    "## Set up experiment"
   ]
  },
  {
   "cell_type": "code",
   "execution_count": 10,
   "metadata": {
    "collapsed": false
   },
   "outputs": [],
   "source": [
    "def classify_project(project, m_s, m_f, threshold=0.8):\n",
    "    money = project.money[:int(np.floor(len(project.money)*threshold))]\n",
    "    X_test = np.ndarray(shape=(len(money), 1), buffer=np.arange(len(money)), dtype=int) \n",
    "    Y_test = np.ndarray(shape=(len(money), 1), buffer=money, dtype=int)\n",
    "    m_s_test.set_XY(X=X_test, Y=Y_test)\n",
    "    m_f_test.set_XY(X=X_test, Y=Y_test)\n",
    "    log_likelihood_successful = m_s_test.log_likelihood()\n",
    "    log_likelihood_failed = m_f_test.log_likelihood()\n",
    "\n",
    "    return int(log_likelihood_successful > log_likelihood_failed)"
   ]
  },
  {
   "cell_type": "code",
   "execution_count": 11,
   "metadata": {
    "collapsed": false
   },
   "outputs": [
    {
     "name": "stdout",
     "output_type": "stream",
     "text": [
      "3209\n",
      "Project 1693026558 is failed\n",
      "Predicted successful\n",
      "-2.29147490209e+38\n",
      "-1.62167816763e+47\n"
     ]
    }
   ],
   "source": [
    "project_test = projects_test[0]\n",
    "print(len(projects_test))\n",
    "print(project_test)\n",
    "m_s_test = m_s.copy()\n",
    "m_f_test = m_f.copy()\n",
    "state = classify_project(project_test, m_s_test, m_f_test)\n",
    "print(\"Predicted %s\" % \"successful\" if state else \"failed\")\n",
    "\n",
    "print(m_s_test.log_likelihood())\n",
    "print(m_f_test.log_likelihood())"
   ]
  },
  {
   "cell_type": "markdown",
   "metadata": {},
   "source": [
    "## Run experiment"
   ]
  },
  {
   "cell_type": "code",
   "execution_count": 13,
   "metadata": {
    "collapsed": false
   },
   "outputs": [
    {
     "name": "stdout",
     "output_type": "stream",
     "text": [
      "Accuracy 0.52\n",
      "[1, 1, 1, 1, 1, 0, 1, 1, 1, 1, 1, 1, 1, 1, 1, 1, 1, 1, 1, 1, 1, 1, 1, 1, 1, 1, 1, 1, 1, 1, 1, 1, 1, 1, 1, 1, 1, 0, 1, 1, 1, 1, 1, 1, 1, 1, 1, 1, 1, 1, 1, 1, 1, 1, 1, 1, 1, 1, 1, 1, 1, 1, 1, 1, 1, 1, 1, 1, 1, 1, 1, 1, 1, 1, 0, 1, 0, 1, 1, 1, 1, 0, 1, 0, 1, 1, 1, 1, 1, 1, 1, 1, 0, 1, 1, 1, 1, 1, 1, 1]\n",
      "[0, 0, 0, 1, 1, 0, 1, 1, 0, 0, 0, 1, 1, 0, 0, 0, 1, 1, 0, 0, 0, 1, 1, 1, 1, 0, 0, 0, 1, 0, 0, 1, 0, 1, 1, 0, 1, 0, 0, 0, 0, 0, 0, 0, 1, 0, 0, 1, 1, 1, 1, 0, 0, 0, 1, 0, 0, 0, 1, 0, 1, 0, 0, 1, 1, 0, 0, 1, 1, 1, 0, 0, 1, 0, 0, 1, 0, 1, 0, 1, 1, 0, 1, 0, 0, 1, 1, 0, 0, 1, 1, 1, 0, 1, 1, 1, 0, 0, 0, 1]\n",
      "[0, 0, 0, 1, 1, 1, 1, 1, 0, 0, 0, 1, 1, 0, 0, 0, 1, 1, 0, 0, 0, 1, 1, 1, 1, 0, 0, 0, 1, 0, 0, 1, 0, 1, 1, 0, 1, 1, 0, 0, 0, 0, 0, 0, 1, 0, 0, 1, 1, 1, 1, 0, 0, 0, 1, 0, 0, 0, 1, 0, 1, 0, 0, 1, 1, 0, 0, 1, 1, 1, 0, 0, 1, 0, 1, 1, 1, 1, 0, 1, 1, 1, 1, 1, 0, 1, 1, 0, 0, 1, 1, 1, 1, 1, 1, 1, 0, 0, 0, 1]\n"
     ]
    }
   ],
   "source": [
    "m_s_test = m_s.copy()\n",
    "m_f_test = m_f.copy()\n",
    "accuracy = []\n",
    "predicted = []\n",
    "actual = []\n",
    "projects_test_small = projects_test[:100]\n",
    "# np.random.shuffle(projects_test_small)\n",
    "for project in projects_test_small:\n",
    "    state = classify_project(project, m_s_test, m_f_test, threshold=1.0)\n",
    "    predicted.append(state)\n",
    "    actual.append(int(project.successful))\n",
    "    accuracy.append(int(state == project.successful))\n",
    "print(\"Accuracy %s\" % np.mean(accuracy))\n",
    "print(predicted)\n",
    "print(actual)\n",
    "print(accuracy)"
   ]
  },
  {
   "cell_type": "markdown",
   "metadata": {},
   "source": [
    "## Two different profiles"
   ]
  },
  {
   "cell_type": "code",
   "execution_count": 14,
   "metadata": {
    "collapsed": false
   },
   "outputs": [
    {
     "data": {
      "image/png": "[encoded data removed]",
      "text/plain": [
       "<matplotlib.figure.Figure at 0x11b3fc160>"
      ]
     },
     "metadata": {},
     "output_type": "display_data"
    }
   ],
   "source": [
    "s = np.array(successful)\n",
    "mean_s = np.mean(s, axis=0)\n",
    "std_s = np.std(s, axis=0)\n",
    "Ns = len(s)\n",
    "f = np.array(failed)\n",
    "mean_f = np.mean(f, axis=0)\n",
    "std_f = np.std(f, axis=0)\n",
    "Nf = len(f)\n",
    "plt.errorbar(range(1000), mean_s, std_s / np.sqrt(Ns))\n",
    "plt.errorbar(range(1000), mean_f, std_f / np.sqrt(Nf))\n",
    "plt.xlabel('Relative time')\n",
    "plt.ylabel('Relative pledged money')\n",
    "plt.title('Profiles of successful and failed projects')\n",
    "plt.legend(['Successful', 'Failed'], loc=2)\n",
    "plt.savefig('two_profiles.pdf')\n",
    "plt.show()"
   ]
  },
  {
   "cell_type": "code",
   "execution_count": null,
   "metadata": {
    "collapsed": true
   },
   "outputs": [],
   "source": []
  }
 ],
 "metadata": {
  "kernelspec": {
   "display_name": "Python 3",
   "language": "python",
   "name": "python3"
  },
  "language_info": {
   "codemirror_mode": {
    "name": "ipython",
    "version": 3
   },
   "file_extension": ".py",
   "mimetype": "text/x-python",
   "name": "python",
   "nbconvert_exporter": "python",
   "pygments_lexer": "ipython3",
   "version": "3.5.0"
  }
 },
 "nbformat": 4,
 "nbformat_minor": 0
}
